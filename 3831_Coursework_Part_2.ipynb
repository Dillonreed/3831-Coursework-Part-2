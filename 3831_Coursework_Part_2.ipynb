{
  "cells": [
    {
      "cell_type": "markdown",
      "metadata": {
        "id": "view-in-github",
        "colab_type": "text"
      },
      "source": [
        "<a href=\"https://colab.research.google.com/github/Dillonreed/3831-Coursework-Part-2/blob/main/3831_Coursework_Part_2.ipynb\" target=\"_parent\"><img src=\"https://colab.research.google.com/assets/colab-badge.svg\" alt=\"Open In Colab\"/></a>"
      ]
    },
    {
      "cell_type": "markdown",
      "metadata": {
        "id": "WuJhI64Qg-lp"
      },
      "source": [
        "# Starter point for the Machine Learning element of the coursework\n",
        "\n",
        "This part of the coursework uses the same dataset as used in the first part of the coursework. In this part of the coursework you are going to develop three machine learning models for predicting the **'median_house_value'** from the dataset. The focus here is on comparing the different models and looking at how you can improve them. You do not need to use a cleaned up version of the data (i.e. perform outlier removal in advance) but you may if you wish although please comment on this.\n",
        "\n",
        "Everything needed to complete this assignment should be available in the course slides, but external information from the interenet may prove useful and is encouraged. Please provide citations for resources used in the course."
      ]
    },
    {
      "cell_type": "markdown",
      "metadata": {
        "id": "VA6pBhl5epn3"
      },
      "source": [
        "### Load libraries and read in data"
      ]
    },
    {
      "cell_type": "code",
      "execution_count": null,
      "metadata": {
        "id": "KatzrPHcDdJT"
      },
      "outputs": [],
      "source": [
        "import pandas as pd\n",
        "houses = pd.read_csv('https://raw.githubusercontent.com/PaoloMissier/CSC3831-2021-22/main/IMPUTATION/TARGET-DATASETS/ORIGINAL/houses.csv', header=0)"
      ]
    },
    {
      "cell_type": "markdown",
      "metadata": {
        "id": "MbCE247UbrQV"
      },
      "source": [
        "### (Optional) Preprocessing and Data Exploration\n",
        "What data exploration would you perform to get a sense of the data, and what preprocessing outside of feature normalasation would you perform? This section is an optional place for students to do additional work on the data before progressing into the assignment proper."
      ]
    },
    {
      "cell_type": "code",
      "execution_count": null,
      "metadata": {
        "id": "l3QRC4AEbrQW"
      },
      "outputs": [],
      "source": []
    },
    {
      "cell_type": "markdown",
      "metadata": {
        "id": "lb1pl1pjeoSN"
      },
      "source": [
        "## Data Preparation\n",
        "In this section you will perform feature selection, feature normalisation, and provide a rationale for your actions."
      ]
    },
    {
      "cell_type": "markdown",
      "metadata": {
        "id": "pBwsycwfbrQW"
      },
      "source": [
        "### Feature Selection\n",
        "Think about which features may be useful in predicting **'median_house_value'**, are all features in the provided data set useful? Is a subset all that's needed? What techniques can you utilise to make this determination?"
      ]
    },
    {
      "cell_type": "code",
      "execution_count": null,
      "metadata": {
        "id": "oUMNolVvEMss"
      },
      "outputs": [],
      "source": []
    },
    {
      "cell_type": "markdown",
      "metadata": {
        "id": "sqGYNfqpbrQW"
      },
      "source": [
        "### Feature Normalisation\n",
        "Think about what normalisation/standardisation methods you should apply to the dataset given what you understand about the raw data."
      ]
    },
    {
      "cell_type": "code",
      "execution_count": null,
      "metadata": {
        "id": "0xkmMHWFbrQW"
      },
      "outputs": [],
      "source": []
    },
    {
      "cell_type": "markdown",
      "metadata": {
        "id": "jzHh1cyLbrQW"
      },
      "source": [
        "### Rationale\n",
        "Provide your rationale for both Feature Selection and Feature Normalisation here."
      ]
    },
    {
      "cell_type": "markdown",
      "metadata": {
        "id": "blpD1vQlbrQX"
      },
      "source": []
    },
    {
      "cell_type": "markdown",
      "metadata": {
        "id": "hhYQd16ze4ci"
      },
      "source": [
        "## Train, Validate, Test Split\n",
        "In this section you will perform a train, validate, test split utilisation the knowledge learned in class and provide a rationale for your actions."
      ]
    },
    {
      "cell_type": "markdown",
      "metadata": {
        "id": "aaCRd2gfbrQX"
      },
      "source": [
        "### Perform Data Split\n",
        "Utilise the information from class or online to split your data into train, validate, and test partitions."
      ]
    },
    {
      "cell_type": "code",
      "execution_count": null,
      "metadata": {
        "id": "LHqwFVZKFhI3"
      },
      "outputs": [],
      "source": []
    },
    {
      "cell_type": "markdown",
      "metadata": {
        "id": "pAyF_SebbrQX"
      },
      "source": [
        "### Rationale\n",
        "Provide a rationale for how you made your train, test, split decision."
      ]
    },
    {
      "cell_type": "markdown",
      "metadata": {
        "id": "LXFnypDGbrQX"
      },
      "source": []
    },
    {
      "cell_type": "markdown",
      "metadata": {
        "id": "_u3ivZ2dfCtm"
      },
      "source": [
        "## Metric Selection\n",
        "In this section your will make appropriate metric selection for analysing your models and provide a rationale."
      ]
    },
    {
      "cell_type": "markdown",
      "metadata": {
        "id": "robzgl8NbrQX"
      },
      "source": [
        "### Select Appropriate Metrics\n",
        "Think about the models you are building, and what the appropriate metrics and scoring should be for those models."
      ]
    },
    {
      "cell_type": "markdown",
      "metadata": {
        "id": "Cpc2_KanbrQY"
      },
      "source": []
    },
    {
      "cell_type": "markdown",
      "metadata": {
        "id": "Z9EwV0SybrQY"
      },
      "source": [
        "### Rationale\n",
        "Provide a rationale for your metrics and scoring selection."
      ]
    },
    {
      "cell_type": "markdown",
      "metadata": {
        "id": "GZyJZzfxbrQZ"
      },
      "source": []
    },
    {
      "cell_type": "markdown",
      "metadata": {
        "id": "bVN7d-rdfK8Q"
      },
      "source": [
        "## Machine Learning Model 1\n",
        "In this section your will select an appropriate machine learning model for predicting **'median_house_value'**, apply it to the dataset to perform this prediction on the test set created in the Train, Validate, Test Split section, and comment on the predictive ability of the model you selected."
      ]
    },
    {
      "cell_type": "markdown",
      "metadata": {
        "id": "5cF5RLLVbrQZ"
      },
      "source": [
        "### Select and Build a Machine Learning Model 1\n",
        "Think about the task at hand, and select an appropriate model to build on the train and validate data. Try different sets of hyper-parameters to improve your model."
      ]
    },
    {
      "cell_type": "code",
      "execution_count": null,
      "metadata": {
        "id": "OrCts1npGGXB"
      },
      "outputs": [],
      "source": []
    },
    {
      "cell_type": "markdown",
      "metadata": {
        "id": "f5HK6muHbrQa"
      },
      "source": [
        "### Use Model 1 to Predict on Test Data\n",
        "Use the model you've trained to predict **'median_house_value'** on the test data."
      ]
    },
    {
      "cell_type": "code",
      "execution_count": null,
      "metadata": {
        "id": "NTUCMLBnbrQa"
      },
      "outputs": [],
      "source": []
    },
    {
      "cell_type": "markdown",
      "metadata": {
        "id": "VGhizTTRbrQa"
      },
      "source": [
        "### Rationale\n",
        "Provide a rationale for model"
      ]
    },
    {
      "cell_type": "markdown",
      "metadata": {
        "id": "Wub009vObrQa"
      },
      "source": []
    },
    {
      "cell_type": "markdown",
      "metadata": {
        "id": "YB78hsM_brQa"
      },
      "source": [
        "### Comment on Predictive Ability\n",
        "Think about the metrics and scoring received from the training and testing components. Think about the generalisability and quality of your results."
      ]
    },
    {
      "cell_type": "markdown",
      "metadata": {
        "id": "jhZRHIZRbrQa"
      },
      "source": []
    },
    {
      "cell_type": "markdown",
      "metadata": {
        "id": "ncy4vY_dbrQa"
      },
      "source": [
        "## Machine Learning Model 2\n",
        "In this section your will select an appropriate machine learning model for predicting **'median_house_value'**, apply it to the dataset to perform this prediction on the test set created in the Train, Validate, Test Split section, and comment on the predictive ability of the model you selected."
      ]
    },
    {
      "cell_type": "markdown",
      "metadata": {
        "id": "pGbBr60VbrQb"
      },
      "source": [
        "### Select and Build a Machine Learning Model 2\n",
        "Think about the task at hand, and select an appropriate model to build on the train and validate data. Try different sets of hyper-parameters to improve your model."
      ]
    },
    {
      "cell_type": "code",
      "execution_count": null,
      "metadata": {
        "id": "Qu5NuwS2brQb"
      },
      "outputs": [],
      "source": []
    },
    {
      "cell_type": "markdown",
      "metadata": {
        "id": "gHAMTfQsbrQb"
      },
      "source": [
        "### Use Model 2 to Predict on Test Data\n",
        "Use the model you've trained to predict **'median_house_value'** on the test data."
      ]
    },
    {
      "cell_type": "code",
      "execution_count": null,
      "metadata": {
        "id": "ZL9TLW0AbrQb"
      },
      "outputs": [],
      "source": []
    },
    {
      "cell_type": "markdown",
      "metadata": {
        "id": "DLbCKbHZbrQb"
      },
      "source": [
        "### Rationale\n",
        "Provide a rationale for model"
      ]
    },
    {
      "cell_type": "markdown",
      "metadata": {
        "id": "lpX5-f0dbrQb"
      },
      "source": []
    },
    {
      "cell_type": "markdown",
      "metadata": {
        "id": "YFkG1em_brQb"
      },
      "source": [
        "### Comment on Predictive Ability\n",
        "Think about the metrics and scoring received from the training and testing components. Think about the generalisability and quality of your results."
      ]
    },
    {
      "cell_type": "markdown",
      "metadata": {
        "id": "sHfP8WesbrQh"
      },
      "source": []
    },
    {
      "cell_type": "markdown",
      "metadata": {
        "id": "pFJ9nqyQbrQh"
      },
      "source": [
        "## Machine Learning Model 3\n",
        "In this section your will select an appropriate machine learning model for predicting **'median_house_value'**, apply it to the dataset to perform this prediction on the test set created in the Train, Validate, Test Split section, and comment on the predictive ability of the model you selected."
      ]
    },
    {
      "cell_type": "markdown",
      "metadata": {
        "id": "7uHYpKpjbrQh"
      },
      "source": [
        "### Select and Build a Machine Learning Model 3\n",
        "Think about the task at hand, and select an appropriate model to build on the train and validate data. Try different sets of hyper-parameters to improve your model."
      ]
    },
    {
      "cell_type": "code",
      "execution_count": null,
      "metadata": {
        "id": "KayLP0cTbrQh"
      },
      "outputs": [],
      "source": []
    },
    {
      "cell_type": "markdown",
      "metadata": {
        "id": "xUKNKZdZbrQi"
      },
      "source": [
        "### Use Model 3 to Predict on Test Data\n",
        "Use the model you've trained to predict **'median_house_value'** on the test data."
      ]
    },
    {
      "cell_type": "code",
      "execution_count": null,
      "metadata": {
        "id": "NdO895bJbrQi"
      },
      "outputs": [],
      "source": []
    },
    {
      "cell_type": "markdown",
      "metadata": {
        "id": "OH1kJqFsbrQi"
      },
      "source": [
        "### Rationale\n",
        "Provide a rationale for model"
      ]
    },
    {
      "cell_type": "markdown",
      "metadata": {
        "id": "DNPTbXtFbrQi"
      },
      "source": []
    },
    {
      "cell_type": "markdown",
      "metadata": {
        "id": "QDOdFvtibrQi"
      },
      "source": [
        "### Comment on Predictive Ability\n",
        "Think about the metrics and scoring received from the training and testing components. Think about the generalisability and quality of your results."
      ]
    },
    {
      "cell_type": "markdown",
      "metadata": {
        "id": "XxgW8qlFbrQi"
      },
      "source": []
    },
    {
      "cell_type": "markdown",
      "metadata": {
        "id": "mMcS2gOfbrQi"
      },
      "source": [
        "## Comparison Between Models\n",
        "In this section you will comment on the difference in predictive ability between models, the difference in analysis metrics between models, and the pros/cons of each model as you understand it."
      ]
    },
    {
      "cell_type": "markdown",
      "metadata": {
        "id": "036L4KsobrQj"
      },
      "source": [
        "### Difference in Predictive Ability\n",
        "Think about what you understand if the predictive ability from each model based on scores gained, comment on the difference between each model and suggest why you believe this to be the case. Additionally comment on the difference in hyper-parameter selection between your models."
      ]
    },
    {
      "cell_type": "markdown",
      "metadata": {
        "id": "oXY_fHgsbrQj"
      },
      "source": []
    },
    {
      "cell_type": "markdown",
      "metadata": {
        "id": "Rvdjm5NIbrQj"
      },
      "source": [
        "### Difference in Analysis Metrics\n",
        "Think about the analysis metrics you received from each model, comment on the use in the difference of these metrics and suggesting which model is \"better\" or \"worse\" when comparing them."
      ]
    },
    {
      "cell_type": "markdown",
      "metadata": {
        "id": "Pj3-VBd6brQj"
      },
      "source": []
    },
    {
      "cell_type": "markdown",
      "metadata": {
        "id": "VSttfDhKbrQj"
      },
      "source": [
        "### Pros/Cons\n",
        "Think about the models and analysis metrics you've gathered, and suggest the positives and negatives of each model."
      ]
    },
    {
      "cell_type": "markdown",
      "metadata": {
        "id": "zIGf16gFbrQj"
      },
      "source": []
    },
    {
      "cell_type": "markdown",
      "metadata": {
        "id": "oL6Ue112brQj"
      },
      "source": [
        "## Conclusion\n",
        "In this section you will draw conclusions about the models you've selected, and efficacy of different analysis metrics you've used, and any additional comments or concerns about the models or metrics you've observed."
      ]
    },
    {
      "cell_type": "markdown",
      "metadata": {
        "id": "p9SYPWAzbrQj"
      },
      "source": [
        "### Model Selection\n",
        "Think about all of the information you've learned both theoretically from the slides and practically through completing this assingment about the models you've selected. What conclusions can you draw about the models, and what situations would you pick one model over another?"
      ]
    },
    {
      "cell_type": "markdown",
      "metadata": {
        "id": "fnfINJ9rbrQk"
      },
      "source": []
    },
    {
      "cell_type": "markdown",
      "metadata": {
        "id": "-uD7fhtPbrQk"
      },
      "source": [
        "### Analysis Metrics\n",
        "Think about the metrics you've selected and what you've learned both thetoretically from the slides and practically through this assignment. What conclusions can you draw about these metrics, and what situations might you pick one set of metrics over another? (Here you may comment on metrics which you have not selected in this assignment)"
      ]
    },
    {
      "cell_type": "markdown",
      "metadata": {
        "id": "FYsUEqcUbrQk"
      },
      "source": []
    },
    {
      "cell_type": "markdown",
      "metadata": {
        "id": "kUwv6KvBbrQk"
      },
      "source": [
        "### Any Additional Conclusions\n",
        "For those of you which have noticed things or made conclusions which do not neatly fit into any other section, please put them here."
      ]
    },
    {
      "cell_type": "markdown",
      "metadata": {
        "id": "YGgE2hTubrQk"
      },
      "source": []
    }
  ],
  "metadata": {
    "colab": {
      "provenance": [],
      "include_colab_link": true
    },
    "kernelspec": {
      "display_name": "Python 3",
      "name": "python3"
    },
    "language_info": {
      "name": "python"
    }
  },
  "nbformat": 4,
  "nbformat_minor": 0
}