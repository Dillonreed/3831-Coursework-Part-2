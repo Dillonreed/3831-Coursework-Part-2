{
  "cells": [
    {
      "cell_type": "markdown",
      "metadata": {
        "id": "view-in-github",
        "colab_type": "text"
      },
      "source": [
        "<a href=\"https://colab.research.google.com/github/Dillonreed/3831-Coursework-Part-2/blob/main/3831_Coursework_Part_2.ipynb\" target=\"_parent\"><img src=\"https://colab.research.google.com/assets/colab-badge.svg\" alt=\"Open In Colab\"/></a>"
      ]
    },
    {
      "cell_type": "markdown",
      "metadata": {
        "id": "WuJhI64Qg-lp"
      },
      "source": [
        "# 3831 Coursework Part 2"
      ]
    },
    {
      "cell_type": "markdown",
      "metadata": {
        "id": "VA6pBhl5epn3"
      },
      "source": [
        "## Imports"
      ]
    },
    {
      "cell_type": "code",
      "execution_count": 1,
      "metadata": {
        "id": "KatzrPHcDdJT"
      },
      "outputs": [],
      "source": [
        "import pandas as pd\n",
        "import seaborn as sns\n",
        "import matplotlib.pyplot as plt\n",
        "import numpy as np\n",
        "import time\n",
        "\n",
        "from sklearn.model_selection import GridSearchCV\n",
        "from sklearn.pipeline import make_pipeline\n",
        "from sklearn.preprocessing import StandardScaler\n",
        "\n",
        "from sklearn.metrics import mean_squared_error, mean_absolute_error, r2_score"
      ]
    },
    {
      "cell_type": "markdown",
      "source": [
        "## Model Assessment Utilities"
      ],
      "metadata": {
        "id": "n-JT48Di90nF"
      }
    },
    {
      "cell_type": "markdown",
      "source": [
        "### Hyperparameter Tuning"
      ],
      "metadata": {
        "id": "t4VlI5Y4tpGm"
      }
    },
    {
      "cell_type": "code",
      "source": [
        "# Documentation from https://scikit-learn.org/stable/modules/generated/sklearn.model_selection.GridSearchCV.html\n",
        "\n",
        "def hyperparameterTune(model, hyperparameterGrid):\n",
        "    # Note start time of model creation and hyperparameter tuning/training\n",
        "    modelInitialTime = time.time()\n",
        "\n",
        "    # Create GridSearchCV object to use for hyperparameter tuning\n",
        "    modelToTune = GridSearchCV(model, hyperparameterGrid)\n",
        "\n",
        "    # Train GridSearch on training data\n",
        "    modelToTune.fit(xTrain, yTrain)\n",
        "\n",
        "    # Find time taken for model\n",
        "    modelTimeTaken = time.time() - modelInitialTime\n",
        "\n",
        "    # Get the best combination of hyperparameters\n",
        "    bestCombination = modelToTune.best_params_\n",
        "    print(f\"Best hyperparameters for model : {bestCombination}\")\n",
        "    print(f\"Time taken for model creation and hyperparameter tuning/training : {modelTimeTaken} seconds\")\n",
        "\n",
        "    return modelToTune"
      ],
      "metadata": {
        "id": "Owon0TBltsZc"
      },
      "execution_count": 2,
      "outputs": []
    },
    {
      "cell_type": "markdown",
      "source": [
        "### Using Statistical Methods"
      ],
      "metadata": {
        "id": "XCo-dcUz98IY"
      }
    },
    {
      "cell_type": "code",
      "source": [
        "def assessModelStatistics(testValues, predictionValues):\n",
        "    # Calculating MSE, MAE, R^2 values for the model\n",
        "    # MSE/MAE should be as low as possible\n",
        "    # R^2 should be as close to 1 as possible\n",
        "    MSE = mean_squared_error(testValues, predictionValues)\n",
        "    MAE = mean_absolute_error(testValues, predictionValues)\n",
        "    rSquared = r2_score(testValues, predictionValues)\n",
        "\n",
        "    # Printing the values\n",
        "    print(f\"Mean Squared Error : {MSE}\")\n",
        "    print(f\"Mean Absolute Error : {MAE}\")\n",
        "    print(f\"R-squared: {rSquared}\")\n"
      ],
      "metadata": {
        "id": "_WyNdKCM971M"
      },
      "execution_count": 3,
      "outputs": []
    },
    {
      "cell_type": "markdown",
      "source": [
        "### Using Graphical Methods"
      ],
      "metadata": {
        "id": "LeAjQQl19-iU"
      }
    },
    {
      "cell_type": "code",
      "source": [
        "def assessModelGraphs(testValues, predictionValues):\n",
        "    # Creating a scatter plot of actual vs predicted values\n",
        "    # Ideally the points will fall along a diagonal line\n",
        "    plt.scatter(testValues, predictionValues)\n",
        "    plt.xlabel(\"Actual Values\")\n",
        "    plt.ylabel(\"Predicted Values\")\n",
        "    plt.title(\"Actual vs. Predicted Values\")\n",
        "    # Add a diagonal line to use to compare predicted values to\n",
        "    plt.plot([min(testValues), max(testValues)], [min(testValues), max(testValues)], color='red', linestyle='--')\n",
        "\n",
        "    plt.show()\n",
        "\n",
        "    # Calculate residuals (difference between the actual and predicted values)\n",
        "    residuals = testValues - predictionValues\n",
        "\n",
        "    # Creating a scatter plot showing of residuals vs predicted values\n",
        "    # A good model will have residuals evenly distributed around the horizontal\n",
        "    # line at 0\n",
        "    plt.scatter(predictionValues, residuals)\n",
        "    plt.axhline(y = 0, color = \"r\", linestyle = \"--\")\n",
        "    plt.xlabel(\"Predicted Values\")\n",
        "    plt.ylabel(\"Residuals\")\n",
        "    plt.title(\"Residual Plot\")\n",
        "    plt.show()\n",
        "\n",
        "    # Plotting the distribution of frequency against the residuals\n",
        "    # Ideally will be a normal distribution\n",
        "    sns.histplot(residuals, kde = True)\n",
        "    plt.xlabel(\"Residuals\")\n",
        "    plt.ylabel(\"Frequency\")\n",
        "    plt.title(\"Distribution of Residuals\")\n",
        "    plt.show()"
      ],
      "metadata": {
        "id": "kyVyzsSE-FIm"
      },
      "execution_count": 4,
      "outputs": []
    },
    {
      "cell_type": "markdown",
      "source": [
        "## Reading Data In"
      ],
      "metadata": {
        "id": "hLULAo37duwv"
      }
    },
    {
      "cell_type": "code",
      "source": [
        "houses = pd.read_csv(\"https://raw.githubusercontent.com/Dillonreed/3831-Coursework-Part-2/main/houses.csv\", header=0)"
      ],
      "metadata": {
        "id": "2FIpQIIMdxbt"
      },
      "execution_count": 5,
      "outputs": []
    },
    {
      "cell_type": "code",
      "source": [
        "houses.columns"
      ],
      "metadata": {
        "colab": {
          "base_uri": "https://localhost:8080/"
        },
        "id": "5NGk27yxdz1I",
        "outputId": "bbdf9a32-2c2f-49f0-a4e4-72f0b225285f"
      },
      "execution_count": 6,
      "outputs": [
        {
          "output_type": "execute_result",
          "data": {
            "text/plain": [
              "Index(['median_house_value', 'median_income', 'housing_median_age',\n",
              "       'total_rooms', 'total_bedrooms', 'population', 'households', 'latitude',\n",
              "       'longitude'],\n",
              "      dtype='object')"
            ]
          },
          "metadata": {},
          "execution_count": 6
        }
      ]
    },
    {
      "cell_type": "markdown",
      "source": [
        "## Plotting Utility"
      ],
      "metadata": {
        "id": "Qy3qYNQMbNIm"
      }
    },
    {
      "cell_type": "code",
      "source": [
        "# Boxplot plotting utility code taken from https://github.com/PaoloMissier/CSC3831-2021-22/blob/main/ASSESSED-COURSEWORK/Anomaly_detection_coursework_starter.ipynb\n",
        "\n",
        "from math import ceil\n",
        "\n",
        "##\n",
        "## type= {boxplot, kdeplot}\n",
        "##\n",
        "def plot_distributions(data, columns, type=\"boxplot\", title=None):\n",
        "\n",
        "    print(\"plotting columns {c}\".format(c=list(columns)))\n",
        "\n",
        "    if type not in {\"boxplot\", \"dkeplot\"}:\n",
        "        print(\"type= {boxplot, dkeplot} only are supported\")\n",
        "        return\n",
        "\n",
        "    ## grid size depends on number of columns\n",
        "    ## max 4 columns in the grid\n",
        "    maxCols  = 4\n",
        "\n",
        "    if len(columns) < 4:\n",
        "        numCols = len(columns)\n",
        "    else:\n",
        "        numCols = maxCols\n",
        "    numRows = ceil(len(columns) / 4)\n",
        "\n",
        "    print(\"grid is {0}x{1}\".format(numRows, numCols))\n",
        "\n",
        "    fig, axs = plt.subplots(numRows, numCols)\n",
        "    fig.suptitle(title)\n",
        "    fig.set_figwidth(5*numCols)\n",
        "    fig.set_figheight(3*numCols)\n",
        "    fig.tight_layout(pad=5.0)\n",
        "\n",
        "    print(axs)\n",
        "\n",
        "#         handle special axes\n",
        "    if numRows == 1 and numCols == 1:\n",
        "        c = columns[0]\n",
        "        # axes is a scalar\n",
        "        if type == \"boxplot\":\n",
        "            sns.boxplot(data=data, x=c, ax=axs)\n",
        "        else:\n",
        "            sns.kdeplot(data=data, x=c, ax=axs)\n",
        "        axs.set_title(c)\n",
        "\n",
        "    elif numRows == 1:\n",
        "        i = 0\n",
        "        # axes is a 1D array\n",
        "        for c in columns:\n",
        "#         print(\"column {c}\".format(c=c))\n",
        "            if type == \"boxplot\":\n",
        "                sns.boxplot(data=data, x=c, ax=axs[i])\n",
        "            else:\n",
        "                sns.kdeplot(data=data, x=c, ax=axs[i])\n",
        "            axs[i].set_title(c)\n",
        "            i = i+1\n",
        "\n",
        "    else:\n",
        "    # general case of a 2D grid\n",
        "        i=j=0\n",
        "        for c in columns:\n",
        "            print(\"column {c}\".format(c=c))\n",
        "            if type == \"boxplot\":\n",
        "                print(\"plotting on axes [{0},{1}]\".format(i,j))\n",
        "                sns.boxplot(data=data, x=c, ax=axs[i,j])\n",
        "            else:\n",
        "                sns.kdeplot(data=data, x=c, ax=axs[i,j])\n",
        "\n",
        "            axs[i,j].set_title(c)\n",
        "            j = j+1\n",
        "            if j == 4:\n",
        "                i = i+1\n",
        "                j= 0"
      ],
      "metadata": {
        "id": "lke0pEmybRex"
      },
      "execution_count": 7,
      "outputs": []
    },
    {
      "cell_type": "markdown",
      "source": [
        "## Data Understanding"
      ],
      "metadata": {
        "id": "Y_R3fsghhIbw"
      }
    },
    {
      "cell_type": "code",
      "source": [
        "# Numerically describing the dataset to show the current state of the dataset\n",
        "houses.describe()"
      ],
      "metadata": {
        "colab": {
          "base_uri": "https://localhost:8080/",
          "height": 300
        },
        "id": "MWU6CkSBByDq",
        "outputId": "7a6d7a69-2fc8-42ff-dfd5-5838b4851d28"
      },
      "execution_count": 8,
      "outputs": [
        {
          "output_type": "execute_result",
          "data": {
            "text/plain": [
              "       median_house_value  median_income  housing_median_age   total_rooms  \\\n",
              "count        20640.000000   20640.000000        20640.000000  20640.000000   \n",
              "mean        206855.816909       3.870671           28.639486   2635.763081   \n",
              "std         115395.615874       1.899822           12.585558   2181.615252   \n",
              "min          14999.000000       0.499900            1.000000      2.000000   \n",
              "25%         119600.000000       2.563400           18.000000   1447.750000   \n",
              "50%         179700.000000       3.534800           29.000000   2127.000000   \n",
              "75%         264725.000000       4.743250           37.000000   3148.000000   \n",
              "max         500001.000000      15.000100           52.000000  39320.000000   \n",
              "\n",
              "       total_bedrooms    population    households      latitude     longitude  \n",
              "count    20640.000000  20640.000000  20640.000000  20640.000000  20640.000000  \n",
              "mean       537.898014   1425.476744    499.539680     35.631861   -119.569704  \n",
              "std        421.247906   1132.462122    382.329753      2.135952      2.003532  \n",
              "min          1.000000      3.000000      1.000000     32.540000   -124.350000  \n",
              "25%        295.000000    787.000000    280.000000     33.930000   -121.800000  \n",
              "50%        435.000000   1166.000000    409.000000     34.260000   -118.490000  \n",
              "75%        647.000000   1725.000000    605.000000     37.710000   -118.010000  \n",
              "max       6445.000000  35682.000000   6082.000000     41.950000   -114.310000  "
            ],
            "text/html": [
              "\n",
              "  <div id=\"df-956a592c-6c17-44bb-996e-20753af3e29f\" class=\"colab-df-container\">\n",
              "    <div>\n",
              "<style scoped>\n",
              "    .dataframe tbody tr th:only-of-type {\n",
              "        vertical-align: middle;\n",
              "    }\n",
              "\n",
              "    .dataframe tbody tr th {\n",
              "        vertical-align: top;\n",
              "    }\n",
              "\n",
              "    .dataframe thead th {\n",
              "        text-align: right;\n",
              "    }\n",
              "</style>\n",
              "<table border=\"1\" class=\"dataframe\">\n",
              "  <thead>\n",
              "    <tr style=\"text-align: right;\">\n",
              "      <th></th>\n",
              "      <th>median_house_value</th>\n",
              "      <th>median_income</th>\n",
              "      <th>housing_median_age</th>\n",
              "      <th>total_rooms</th>\n",
              "      <th>total_bedrooms</th>\n",
              "      <th>population</th>\n",
              "      <th>households</th>\n",
              "      <th>latitude</th>\n",
              "      <th>longitude</th>\n",
              "    </tr>\n",
              "  </thead>\n",
              "  <tbody>\n",
              "    <tr>\n",
              "      <th>count</th>\n",
              "      <td>20640.000000</td>\n",
              "      <td>20640.000000</td>\n",
              "      <td>20640.000000</td>\n",
              "      <td>20640.000000</td>\n",
              "      <td>20640.000000</td>\n",
              "      <td>20640.000000</td>\n",
              "      <td>20640.000000</td>\n",
              "      <td>20640.000000</td>\n",
              "      <td>20640.000000</td>\n",
              "    </tr>\n",
              "    <tr>\n",
              "      <th>mean</th>\n",
              "      <td>206855.816909</td>\n",
              "      <td>3.870671</td>\n",
              "      <td>28.639486</td>\n",
              "      <td>2635.763081</td>\n",
              "      <td>537.898014</td>\n",
              "      <td>1425.476744</td>\n",
              "      <td>499.539680</td>\n",
              "      <td>35.631861</td>\n",
              "      <td>-119.569704</td>\n",
              "    </tr>\n",
              "    <tr>\n",
              "      <th>std</th>\n",
              "      <td>115395.615874</td>\n",
              "      <td>1.899822</td>\n",
              "      <td>12.585558</td>\n",
              "      <td>2181.615252</td>\n",
              "      <td>421.247906</td>\n",
              "      <td>1132.462122</td>\n",
              "      <td>382.329753</td>\n",
              "      <td>2.135952</td>\n",
              "      <td>2.003532</td>\n",
              "    </tr>\n",
              "    <tr>\n",
              "      <th>min</th>\n",
              "      <td>14999.000000</td>\n",
              "      <td>0.499900</td>\n",
              "      <td>1.000000</td>\n",
              "      <td>2.000000</td>\n",
              "      <td>1.000000</td>\n",
              "      <td>3.000000</td>\n",
              "      <td>1.000000</td>\n",
              "      <td>32.540000</td>\n",
              "      <td>-124.350000</td>\n",
              "    </tr>\n",
              "    <tr>\n",
              "      <th>25%</th>\n",
              "      <td>119600.000000</td>\n",
              "      <td>2.563400</td>\n",
              "      <td>18.000000</td>\n",
              "      <td>1447.750000</td>\n",
              "      <td>295.000000</td>\n",
              "      <td>787.000000</td>\n",
              "      <td>280.000000</td>\n",
              "      <td>33.930000</td>\n",
              "      <td>-121.800000</td>\n",
              "    </tr>\n",
              "    <tr>\n",
              "      <th>50%</th>\n",
              "      <td>179700.000000</td>\n",
              "      <td>3.534800</td>\n",
              "      <td>29.000000</td>\n",
              "      <td>2127.000000</td>\n",
              "      <td>435.000000</td>\n",
              "      <td>1166.000000</td>\n",
              "      <td>409.000000</td>\n",
              "      <td>34.260000</td>\n",
              "      <td>-118.490000</td>\n",
              "    </tr>\n",
              "    <tr>\n",
              "      <th>75%</th>\n",
              "      <td>264725.000000</td>\n",
              "      <td>4.743250</td>\n",
              "      <td>37.000000</td>\n",
              "      <td>3148.000000</td>\n",
              "      <td>647.000000</td>\n",
              "      <td>1725.000000</td>\n",
              "      <td>605.000000</td>\n",
              "      <td>37.710000</td>\n",
              "      <td>-118.010000</td>\n",
              "    </tr>\n",
              "    <tr>\n",
              "      <th>max</th>\n",
              "      <td>500001.000000</td>\n",
              "      <td>15.000100</td>\n",
              "      <td>52.000000</td>\n",
              "      <td>39320.000000</td>\n",
              "      <td>6445.000000</td>\n",
              "      <td>35682.000000</td>\n",
              "      <td>6082.000000</td>\n",
              "      <td>41.950000</td>\n",
              "      <td>-114.310000</td>\n",
              "    </tr>\n",
              "  </tbody>\n",
              "</table>\n",
              "</div>\n",
              "    <div class=\"colab-df-buttons\">\n",
              "\n",
              "  <div class=\"colab-df-container\">\n",
              "    <button class=\"colab-df-convert\" onclick=\"convertToInteractive('df-956a592c-6c17-44bb-996e-20753af3e29f')\"\n",
              "            title=\"Convert this dataframe to an interactive table.\"\n",
              "            style=\"display:none;\">\n",
              "\n",
              "  <svg xmlns=\"http://www.w3.org/2000/svg\" height=\"24px\" viewBox=\"0 -960 960 960\">\n",
              "    <path d=\"M120-120v-720h720v720H120Zm60-500h600v-160H180v160Zm220 220h160v-160H400v160Zm0 220h160v-160H400v160ZM180-400h160v-160H180v160Zm440 0h160v-160H620v160ZM180-180h160v-160H180v160Zm440 0h160v-160H620v160Z\"/>\n",
              "  </svg>\n",
              "    </button>\n",
              "\n",
              "  <style>\n",
              "    .colab-df-container {\n",
              "      display:flex;\n",
              "      gap: 12px;\n",
              "    }\n",
              "\n",
              "    .colab-df-convert {\n",
              "      background-color: #E8F0FE;\n",
              "      border: none;\n",
              "      border-radius: 50%;\n",
              "      cursor: pointer;\n",
              "      display: none;\n",
              "      fill: #1967D2;\n",
              "      height: 32px;\n",
              "      padding: 0 0 0 0;\n",
              "      width: 32px;\n",
              "    }\n",
              "\n",
              "    .colab-df-convert:hover {\n",
              "      background-color: #E2EBFA;\n",
              "      box-shadow: 0px 1px 2px rgba(60, 64, 67, 0.3), 0px 1px 3px 1px rgba(60, 64, 67, 0.15);\n",
              "      fill: #174EA6;\n",
              "    }\n",
              "\n",
              "    .colab-df-buttons div {\n",
              "      margin-bottom: 4px;\n",
              "    }\n",
              "\n",
              "    [theme=dark] .colab-df-convert {\n",
              "      background-color: #3B4455;\n",
              "      fill: #D2E3FC;\n",
              "    }\n",
              "\n",
              "    [theme=dark] .colab-df-convert:hover {\n",
              "      background-color: #434B5C;\n",
              "      box-shadow: 0px 1px 3px 1px rgba(0, 0, 0, 0.15);\n",
              "      filter: drop-shadow(0px 1px 2px rgba(0, 0, 0, 0.3));\n",
              "      fill: #FFFFFF;\n",
              "    }\n",
              "  </style>\n",
              "\n",
              "    <script>\n",
              "      const buttonEl =\n",
              "        document.querySelector('#df-956a592c-6c17-44bb-996e-20753af3e29f button.colab-df-convert');\n",
              "      buttonEl.style.display =\n",
              "        google.colab.kernel.accessAllowed ? 'block' : 'none';\n",
              "\n",
              "      async function convertToInteractive(key) {\n",
              "        const element = document.querySelector('#df-956a592c-6c17-44bb-996e-20753af3e29f');\n",
              "        const dataTable =\n",
              "          await google.colab.kernel.invokeFunction('convertToInteractive',\n",
              "                                                    [key], {});\n",
              "        if (!dataTable) return;\n",
              "\n",
              "        const docLinkHtml = 'Like what you see? Visit the ' +\n",
              "          '<a target=\"_blank\" href=https://colab.research.google.com/notebooks/data_table.ipynb>data table notebook</a>'\n",
              "          + ' to learn more about interactive tables.';\n",
              "        element.innerHTML = '';\n",
              "        dataTable['output_type'] = 'display_data';\n",
              "        await google.colab.output.renderOutput(dataTable, element);\n",
              "        const docLink = document.createElement('div');\n",
              "        docLink.innerHTML = docLinkHtml;\n",
              "        element.appendChild(docLink);\n",
              "      }\n",
              "    </script>\n",
              "  </div>\n",
              "\n",
              "\n",
              "<div id=\"df-2c7aedad-7272-4b2f-9d9f-84a9658b9260\">\n",
              "  <button class=\"colab-df-quickchart\" onclick=\"quickchart('df-2c7aedad-7272-4b2f-9d9f-84a9658b9260')\"\n",
              "            title=\"Suggest charts\"\n",
              "            style=\"display:none;\">\n",
              "\n",
              "<svg xmlns=\"http://www.w3.org/2000/svg\" height=\"24px\"viewBox=\"0 0 24 24\"\n",
              "     width=\"24px\">\n",
              "    <g>\n",
              "        <path d=\"M19 3H5c-1.1 0-2 .9-2 2v14c0 1.1.9 2 2 2h14c1.1 0 2-.9 2-2V5c0-1.1-.9-2-2-2zM9 17H7v-7h2v7zm4 0h-2V7h2v10zm4 0h-2v-4h2v4z\"/>\n",
              "    </g>\n",
              "</svg>\n",
              "  </button>\n",
              "\n",
              "<style>\n",
              "  .colab-df-quickchart {\n",
              "      --bg-color: #E8F0FE;\n",
              "      --fill-color: #1967D2;\n",
              "      --hover-bg-color: #E2EBFA;\n",
              "      --hover-fill-color: #174EA6;\n",
              "      --disabled-fill-color: #AAA;\n",
              "      --disabled-bg-color: #DDD;\n",
              "  }\n",
              "\n",
              "  [theme=dark] .colab-df-quickchart {\n",
              "      --bg-color: #3B4455;\n",
              "      --fill-color: #D2E3FC;\n",
              "      --hover-bg-color: #434B5C;\n",
              "      --hover-fill-color: #FFFFFF;\n",
              "      --disabled-bg-color: #3B4455;\n",
              "      --disabled-fill-color: #666;\n",
              "  }\n",
              "\n",
              "  .colab-df-quickchart {\n",
              "    background-color: var(--bg-color);\n",
              "    border: none;\n",
              "    border-radius: 50%;\n",
              "    cursor: pointer;\n",
              "    display: none;\n",
              "    fill: var(--fill-color);\n",
              "    height: 32px;\n",
              "    padding: 0;\n",
              "    width: 32px;\n",
              "  }\n",
              "\n",
              "  .colab-df-quickchart:hover {\n",
              "    background-color: var(--hover-bg-color);\n",
              "    box-shadow: 0 1px 2px rgba(60, 64, 67, 0.3), 0 1px 3px 1px rgba(60, 64, 67, 0.15);\n",
              "    fill: var(--button-hover-fill-color);\n",
              "  }\n",
              "\n",
              "  .colab-df-quickchart-complete:disabled,\n",
              "  .colab-df-quickchart-complete:disabled:hover {\n",
              "    background-color: var(--disabled-bg-color);\n",
              "    fill: var(--disabled-fill-color);\n",
              "    box-shadow: none;\n",
              "  }\n",
              "\n",
              "  .colab-df-spinner {\n",
              "    border: 2px solid var(--fill-color);\n",
              "    border-color: transparent;\n",
              "    border-bottom-color: var(--fill-color);\n",
              "    animation:\n",
              "      spin 1s steps(1) infinite;\n",
              "  }\n",
              "\n",
              "  @keyframes spin {\n",
              "    0% {\n",
              "      border-color: transparent;\n",
              "      border-bottom-color: var(--fill-color);\n",
              "      border-left-color: var(--fill-color);\n",
              "    }\n",
              "    20% {\n",
              "      border-color: transparent;\n",
              "      border-left-color: var(--fill-color);\n",
              "      border-top-color: var(--fill-color);\n",
              "    }\n",
              "    30% {\n",
              "      border-color: transparent;\n",
              "      border-left-color: var(--fill-color);\n",
              "      border-top-color: var(--fill-color);\n",
              "      border-right-color: var(--fill-color);\n",
              "    }\n",
              "    40% {\n",
              "      border-color: transparent;\n",
              "      border-right-color: var(--fill-color);\n",
              "      border-top-color: var(--fill-color);\n",
              "    }\n",
              "    60% {\n",
              "      border-color: transparent;\n",
              "      border-right-color: var(--fill-color);\n",
              "    }\n",
              "    80% {\n",
              "      border-color: transparent;\n",
              "      border-right-color: var(--fill-color);\n",
              "      border-bottom-color: var(--fill-color);\n",
              "    }\n",
              "    90% {\n",
              "      border-color: transparent;\n",
              "      border-bottom-color: var(--fill-color);\n",
              "    }\n",
              "  }\n",
              "</style>\n",
              "\n",
              "  <script>\n",
              "    async function quickchart(key) {\n",
              "      const quickchartButtonEl =\n",
              "        document.querySelector('#' + key + ' button');\n",
              "      quickchartButtonEl.disabled = true;  // To prevent multiple clicks.\n",
              "      quickchartButtonEl.classList.add('colab-df-spinner');\n",
              "      try {\n",
              "        const charts = await google.colab.kernel.invokeFunction(\n",
              "            'suggestCharts', [key], {});\n",
              "      } catch (error) {\n",
              "        console.error('Error during call to suggestCharts:', error);\n",
              "      }\n",
              "      quickchartButtonEl.classList.remove('colab-df-spinner');\n",
              "      quickchartButtonEl.classList.add('colab-df-quickchart-complete');\n",
              "    }\n",
              "    (() => {\n",
              "      let quickchartButtonEl =\n",
              "        document.querySelector('#df-2c7aedad-7272-4b2f-9d9f-84a9658b9260 button');\n",
              "      quickchartButtonEl.style.display =\n",
              "        google.colab.kernel.accessAllowed ? 'block' : 'none';\n",
              "    })();\n",
              "  </script>\n",
              "</div>\n",
              "    </div>\n",
              "  </div>\n"
            ]
          },
          "metadata": {},
          "execution_count": 8
        }
      ]
    },
    {
      "cell_type": "code",
      "source": [
        "# Plotting box plots of the dataset to visually show the current state of\n",
        "# the dataset\n",
        "plot_distributions(houses, houses.columns)"
      ],
      "metadata": {
        "colab": {
          "base_uri": "https://localhost:8080/",
          "height": 1000
        },
        "id": "sevr8mYzb6vl",
        "outputId": "fe741ded-9888-4d58-b740-31fc78d0c488"
      },
      "execution_count": 9,
      "outputs": [
        {
          "output_type": "stream",
          "name": "stdout",
          "text": [
            "plotting columns ['median_house_value', 'median_income', 'housing_median_age', 'total_rooms', 'total_bedrooms', 'population', 'households', 'latitude', 'longitude']\n",
            "grid is 3x4\n",
            "[[<Axes: > <Axes: > <Axes: > <Axes: >]\n",
            " [<Axes: > <Axes: > <Axes: > <Axes: >]\n",
            " [<Axes: > <Axes: > <Axes: > <Axes: >]]\n",
            "column median_house_value\n",
            "plotting on axes [0,0]\n",
            "column median_income\n",
            "plotting on axes [0,1]\n",
            "column housing_median_age\n",
            "plotting on axes [0,2]\n",
            "column total_rooms\n",
            "plotting on axes [0,3]\n",
            "column total_bedrooms\n",
            "plotting on axes [1,0]\n",
            "column population\n",
            "plotting on axes [1,1]\n",
            "column households\n",
            "plotting on axes [1,2]\n",
            "column latitude\n",
            "plotting on axes [1,3]\n",
            "column longitude\n",
            "plotting on axes [2,0]\n"
          ]
        },
        {
          "output_type": "display_data",
          "data": {
            "text/plain": [
              "<Figure size 2000x1200 with 12 Axes>"
            ],
            "image/png": "[encoded data removed]"
          },
          "metadata": {}
        }
      ]
    },
    {
      "cell_type": "markdown",
      "source": [
        "Description of Numerical Statistics\n",
        "* The dataset has 20,640 records.\n",
        "* The median house value ranges from 14,999 to 500,001, with a mean of 206,855.82.\n",
        "* The median income ranges from 0.5 to 15, with a mean of 3.87.\n",
        "* Housing median age ranges from 1 to 52, with a mean of 28.64.\n",
        "* Total rooms range from 2 to 39,320, with a mean of 2,635.76.\n",
        "* Total bedrooms range from 1 to 6,445, with a mean of 537.90.\n",
        "* Population ranges from 3 to 35,682, with a mean of 1,425.48.\n",
        "* Households range from 1 to 6,082, with a mean of 499.54.\n",
        "* Latitude ranges from 32.54 to 41.95, with a mean of 35.63.\n",
        "* Longitude ranges from -124.35 to -114.31, with a mean of -119.57.\n",
        "\n",
        "Description of Boxplots of Features from the Dataset\n",
        "\n",
        "From looking at the boxplots, I can see that the dataset looks to be quite varied which would be beneficial for the training of any potential future models.\n",
        "\n",
        "Distributed among the features there looks to be quite a large amount of data that lies beyond 1.5 x IQR which could indicate those datapoints to be outliers.\n",
        "* The Median house value boxplot appears to have quite a few values greater than 1.5 x IQR.\n",
        "* The Median income boxplot appears to have a large number of values greater than 1.5 x IQR.\n",
        "* The Housing median age boxplot does not have any values greater than 1.5 x IQR.\n",
        "* The Total rooms again boxplot appears to have a large number of values greater than 1.5 x IQR.\n",
        "* The Total bedrooms boxplot appears to have a large number of values greater than 1.5 x IQR.\n",
        "* The Population boxplot has a large number of values greater than 1.5 x IQR.\n",
        "* The Households boxplot has large number of values greater than 1.5 x IQR.\n",
        "* The Latitude boxplot does not have any values greater than 1.5 x IQR.\n",
        "* The Longitude boxplot does not have any values greater than 1.5 x IQR.\n",
        "\n",
        "Understanding of the Dataset\n",
        "* The dataset has a large number of records that will be useful for the training/validation of any potential future models, however with the large amount of data points lying greater than 1.5 x the IQR this could suggest there could be a high amount of outliers.\n",
        "* The data appears to have a good degree of variance which should lead to good generalizability for any potential future models.\n",
        "* Each record is the houshold as well as financial information about a geographic area located using latitude/longitude.\n",
        "* From looking at the spread of the Latitude/Longitude the datapoints appear to be located primarily within the state of California in the United States of America.\n"
      ],
      "metadata": {
        "id": "6RlpwS8uhKmT"
      }
    },
    {
      "cell_type": "markdown",
      "metadata": {
        "id": "lb1pl1pjeoSN"
      },
      "source": [
        "## Data Preparation\n"
      ]
    },
    {
      "cell_type": "markdown",
      "metadata": {
        "id": "sqGYNfqpbrQW"
      },
      "source": [
        "### Feature Normalisation\n"
      ]
    },
    {
      "cell_type": "code",
      "execution_count": 10,
      "metadata": {
        "id": "0xkmMHWFbrQW"
      },
      "outputs": [],
      "source": [
        "# Normalizing features so better conclusions can be drawn\n",
        "\n",
        "# Create a copy of the houses dataset\n",
        "normalizedHouses = houses\n",
        "\n",
        "# Normalizing numerical features for houses by dividing them by the number of\n",
        "# households to estimate a mean for the geographic area\n",
        "normalizedHouses[\"median_income_per_household\"] = normalizedHouses[\"median_income\"] / houses[\"households\"]\n",
        "normalizedHouses[\"total_rooms_per_household\"] = normalizedHouses[\"total_rooms\"] / houses[\"households\"]\n",
        "normalizedHouses[\"total_bedrooms_per_household\"] = normalizedHouses[\"total_bedrooms\"] / houses[\"households\"]\n",
        "normalizedHouses[\"population_per_household\"] = normalizedHouses[\"population\"] / houses[\"households\"]\n",
        "\n",
        "# Drop the normalized features from the normalized dataset\n",
        "normalizedHouses = houses.drop(columns=[\"median_income\", \"total_rooms\", \"total_bedrooms\"])"
      ]
    },
    {
      "cell_type": "markdown",
      "metadata": {
        "id": "pBwsycwfbrQW"
      },
      "source": [
        "### Feature Selection\n"
      ]
    },
    {
      "cell_type": "code",
      "source": [
        "# Documentation from https://scikit-learn.org/stable/modules/feature_selection.html\n",
        "\n",
        "from sklearn.model_selection import train_test_split\n",
        "from sklearn.ensemble import RandomForestRegressor\n",
        "from sklearn.feature_selection import mutual_info_regression\n",
        "from sklearn.linear_model import LassoCV\n",
        "from sklearn.feature_selection import SelectFromModel\n",
        "\n",
        "\n",
        "# Separate features (x) and target feature (y)\n",
        "x = normalizedHouses.drop(\"median_house_value\", axis = 1)\n",
        "y = normalizedHouses[\"median_house_value\"]\n",
        "\n",
        "# Split the data into training and testing sets\n",
        "xTrain, xTest, yTrain, yTest = train_test_split(x, y, test_size=0.2, random_state = 3831)\n",
        "\n",
        "# Technique 1: Correlation Analysis\n",
        "correlationMatrix = normalizedHouses.corr()\n",
        "correlationWithTarget = correlationMatrix[\"median_house_value\"].sort_values(ascending = False)\n",
        "selectedFeaturesCorr = correlationWithTarget[abs(correlationWithTarget) > 0.1].index.tolist()\n",
        "\n",
        "# Technique 2: Feature Importance (Tree-based Model)\n",
        "rfModel = RandomForestRegressor(random_state = 3831)\n",
        "rfModel.fit(xTrain, yTrain)\n",
        "featureImportances = pd.Series(rfModel.feature_importances_, index = x.columns)\n",
        "selectedFeaturesRf = featureImportances[featureImportances > 0.1].index.tolist()\n",
        "\n",
        "# Technique 3: Recursive Feature Elimination (RFE)\n",
        "lassoModel = LassoCV(cv=5)\n",
        "sfm = SelectFromModel(lassoModel, threshold = 0.1)\n",
        "sfm.fit(xTrain, yTrain)\n",
        "selectedFeaturesRfe = x.columns[sfm.get_support()].tolist()\n",
        "\n",
        "# Technique 4: Mutual Information\n",
        "miScores = mutual_info_regression(xTrain, yTrain)\n",
        "selectedFeaturesMi = x.columns[miScores > 0.1].tolist()\n",
        "\n",
        "# Print the selected features from each method\n",
        "print(f\"Selected Features (Correlation) : {selectedFeaturesCorr}\")\n",
        "print(f\"Selected Features (Random Forest) : {selectedFeaturesRf}\")\n",
        "print(f\"Selected Features (RFE) : {selectedFeaturesRfe}\")\n",
        "print(f\"Selected Features (Mutual Information) : {selectedFeaturesMi}: \")"
      ],
      "metadata": {
        "colab": {
          "base_uri": "https://localhost:8080/"
        },
        "id": "Tq3EzSNrJPgB",
        "outputId": "6b8f766c-fae9-44f8-e1ed-c42afac6f821"
      },
      "execution_count": 11,
      "outputs": [
        {
          "output_type": "stream",
          "name": "stdout",
          "text": [
            "Selected Features (Correlation) : ['median_house_value', 'total_rooms_per_household', 'housing_median_age', 'latitude']\n",
            "Selected Features (Random Forest) : ['latitude', 'longitude', 'total_rooms_per_household', 'population_per_household']\n",
            "Selected Features (RFE) : ['housing_median_age', 'population', 'households', 'latitude', 'longitude', 'total_rooms_per_household', 'total_bedrooms_per_household', 'population_per_household']\n",
            "Selected Features (Mutual Information) : ['latitude', 'longitude', 'total_rooms_per_household']: \n"
          ]
        }
      ]
    },
    {
      "cell_type": "code",
      "source": [
        "# Remove non-selected features from the dataset\n",
        "\n",
        "# I have chosen features based on feature selection techniques, along with my\n",
        "# own context from my understanding of the raw data\n",
        "featuresSelected = [\n",
        "    \"housing_median_age\",\n",
        "    \"total_rooms_per_household\",\n",
        "    \"total_bedrooms_per_household\",\n",
        "    \"latitude\",\n",
        "    \"longitude\"\n",
        "]\n",
        "\n",
        "# Created a dataframe only with the features selected\n",
        "normalizedHousesFeaturesSelected = normalizedHouses[featuresSelected]\n",
        "\n",
        "# Numerically describing the dataset to see the updated state\n",
        "normalizedHousesFeaturesSelected.describe()"
      ],
      "metadata": {
        "colab": {
          "base_uri": "https://localhost:8080/",
          "height": 300
        },
        "id": "X4wZ8ld0Thxp",
        "outputId": "28635ebd-f315-49db-a0c9-b96e282d7339"
      },
      "execution_count": 12,
      "outputs": [
        {
          "output_type": "execute_result",
          "data": {
            "text/plain": [
              "       housing_median_age  total_rooms_per_household  \\\n",
              "count        20640.000000               20640.000000   \n",
              "mean            28.639486                   5.429000   \n",
              "std             12.585558                   2.474173   \n",
              "min              1.000000                   0.846154   \n",
              "25%             18.000000                   4.440716   \n",
              "50%             29.000000                   5.229129   \n",
              "75%             37.000000                   6.052381   \n",
              "max             52.000000                 141.909091   \n",
              "\n",
              "       total_bedrooms_per_household      latitude     longitude  \n",
              "count                  20640.000000  20640.000000  20640.000000  \n",
              "mean                       1.096675     35.631861   -119.569704  \n",
              "std                        0.473911      2.135952      2.003532  \n",
              "min                        0.333333     32.540000   -124.350000  \n",
              "25%                        1.006079     33.930000   -121.800000  \n",
              "50%                        1.048780     34.260000   -118.490000  \n",
              "75%                        1.099526     37.710000   -118.010000  \n",
              "max                       34.066667     41.950000   -114.310000  "
            ],
            "text/html": [
              "\n",
              "  <div id=\"df-ddbd4faa-7042-413f-92cc-014aaceeb5e1\" class=\"colab-df-container\">\n",
              "    <div>\n",
              "<style scoped>\n",
              "    .dataframe tbody tr th:only-of-type {\n",
              "        vertical-align: middle;\n",
              "    }\n",
              "\n",
              "    .dataframe tbody tr th {\n",
              "        vertical-align: top;\n",
              "    }\n",
              "\n",
              "    .dataframe thead th {\n",
              "        text-align: right;\n",
              "    }\n",
              "</style>\n",
              "<table border=\"1\" class=\"dataframe\">\n",
              "  <thead>\n",
              "    <tr style=\"text-align: right;\">\n",
              "      <th></th>\n",
              "      <th>housing_median_age</th>\n",
              "      <th>total_rooms_per_household</th>\n",
              "      <th>total_bedrooms_per_household</th>\n",
              "      <th>latitude</th>\n",
              "      <th>longitude</th>\n",
              "    </tr>\n",
              "  </thead>\n",
              "  <tbody>\n",
              "    <tr>\n",
              "      <th>count</th>\n",
              "      <td>20640.000000</td>\n",
              "      <td>20640.000000</td>\n",
              "      <td>20640.000000</td>\n",
              "      <td>20640.000000</td>\n",
              "      <td>20640.000000</td>\n",
              "    </tr>\n",
              "    <tr>\n",
              "      <th>mean</th>\n",
              "      <td>28.639486</td>\n",
              "      <td>5.429000</td>\n",
              "      <td>1.096675</td>\n",
              "      <td>35.631861</td>\n",
              "      <td>-119.569704</td>\n",
              "    </tr>\n",
              "    <tr>\n",
              "      <th>std</th>\n",
              "      <td>12.585558</td>\n",
              "      <td>2.474173</td>\n",
              "      <td>0.473911</td>\n",
              "      <td>2.135952</td>\n",
              "      <td>2.003532</td>\n",
              "    </tr>\n",
              "    <tr>\n",
              "      <th>min</th>\n",
              "      <td>1.000000</td>\n",
              "      <td>0.846154</td>\n",
              "      <td>0.333333</td>\n",
              "      <td>32.540000</td>\n",
              "      <td>-124.350000</td>\n",
              "    </tr>\n",
              "    <tr>\n",
              "      <th>25%</th>\n",
              "      <td>18.000000</td>\n",
              "      <td>4.440716</td>\n",
              "      <td>1.006079</td>\n",
              "      <td>33.930000</td>\n",
              "      <td>-121.800000</td>\n",
              "    </tr>\n",
              "    <tr>\n",
              "      <th>50%</th>\n",
              "      <td>29.000000</td>\n",
              "      <td>5.229129</td>\n",
              "      <td>1.048780</td>\n",
              "      <td>34.260000</td>\n",
              "      <td>-118.490000</td>\n",
              "    </tr>\n",
              "    <tr>\n",
              "      <th>75%</th>\n",
              "      <td>37.000000</td>\n",
              "      <td>6.052381</td>\n",
              "      <td>1.099526</td>\n",
              "      <td>37.710000</td>\n",
              "      <td>-118.010000</td>\n",
              "    </tr>\n",
              "    <tr>\n",
              "      <th>max</th>\n",
              "      <td>52.000000</td>\n",
              "      <td>141.909091</td>\n",
              "      <td>34.066667</td>\n",
              "      <td>41.950000</td>\n",
              "      <td>-114.310000</td>\n",
              "    </tr>\n",
              "  </tbody>\n",
              "</table>\n",
              "</div>\n",
              "    <div class=\"colab-df-buttons\">\n",
              "\n",
              "  <div class=\"colab-df-container\">\n",
              "    <button class=\"colab-df-convert\" onclick=\"convertToInteractive('df-ddbd4faa-7042-413f-92cc-014aaceeb5e1')\"\n",
              "            title=\"Convert this dataframe to an interactive table.\"\n",
              "            style=\"display:none;\">\n",
              "\n",
              "  <svg xmlns=\"http://www.w3.org/2000/svg\" height=\"24px\" viewBox=\"0 -960 960 960\">\n",
              "    <path d=\"M120-120v-720h720v720H120Zm60-500h600v-160H180v160Zm220 220h160v-160H400v160Zm0 220h160v-160H400v160ZM180-400h160v-160H180v160Zm440 0h160v-160H620v160ZM180-180h160v-160H180v160Zm440 0h160v-160H620v160Z\"/>\n",
              "  </svg>\n",
              "    </button>\n",
              "\n",
              "  <style>\n",
              "    .colab-df-container {\n",
              "      display:flex;\n",
              "      gap: 12px;\n",
              "    }\n",
              "\n",
              "    .colab-df-convert {\n",
              "      background-color: #E8F0FE;\n",
              "      border: none;\n",
              "      border-radius: 50%;\n",
              "      cursor: pointer;\n",
              "      display: none;\n",
              "      fill: #1967D2;\n",
              "      height: 32px;\n",
              "      padding: 0 0 0 0;\n",
              "      width: 32px;\n",
              "    }\n",
              "\n",
              "    .colab-df-convert:hover {\n",
              "      background-color: #E2EBFA;\n",
              "      box-shadow: 0px 1px 2px rgba(60, 64, 67, 0.3), 0px 1px 3px 1px rgba(60, 64, 67, 0.15);\n",
              "      fill: #174EA6;\n",
              "    }\n",
              "\n",
              "    .colab-df-buttons div {\n",
              "      margin-bottom: 4px;\n",
              "    }\n",
              "\n",
              "    [theme=dark] .colab-df-convert {\n",
              "      background-color: #3B4455;\n",
              "      fill: #D2E3FC;\n",
              "    }\n",
              "\n",
              "    [theme=dark] .colab-df-convert:hover {\n",
              "      background-color: #434B5C;\n",
              "      box-shadow: 0px 1px 3px 1px rgba(0, 0, 0, 0.15);\n",
              "      filter: drop-shadow(0px 1px 2px rgba(0, 0, 0, 0.3));\n",
              "      fill: #FFFFFF;\n",
              "    }\n",
              "  </style>\n",
              "\n",
              "    <script>\n",
              "      const buttonEl =\n",
              "        document.querySelector('#df-ddbd4faa-7042-413f-92cc-014aaceeb5e1 button.colab-df-convert');\n",
              "      buttonEl.style.display =\n",
              "        google.colab.kernel.accessAllowed ? 'block' : 'none';\n",
              "\n",
              "      async function convertToInteractive(key) {\n",
              "        const element = document.querySelector('#df-ddbd4faa-7042-413f-92cc-014aaceeb5e1');\n",
              "        const dataTable =\n",
              "          await google.colab.kernel.invokeFunction('convertToInteractive',\n",
              "                                                    [key], {});\n",
              "        if (!dataTable) return;\n",
              "\n",
              "        const docLinkHtml = 'Like what you see? Visit the ' +\n",
              "          '<a target=\"_blank\" href=https://colab.research.google.com/notebooks/data_table.ipynb>data table notebook</a>'\n",
              "          + ' to learn more about interactive tables.';\n",
              "        element.innerHTML = '';\n",
              "        dataTable['output_type'] = 'display_data';\n",
              "        await google.colab.output.renderOutput(dataTable, element);\n",
              "        const docLink = document.createElement('div');\n",
              "        docLink.innerHTML = docLinkHtml;\n",
              "        element.appendChild(docLink);\n",
              "      }\n",
              "    </script>\n",
              "  </div>\n",
              "\n",
              "\n",
              "<div id=\"df-c3972a50-b81a-4119-953d-ee9c8aa52cb0\">\n",
              "  <button class=\"colab-df-quickchart\" onclick=\"quickchart('df-c3972a50-b81a-4119-953d-ee9c8aa52cb0')\"\n",
              "            title=\"Suggest charts\"\n",
              "            style=\"display:none;\">\n",
              "\n",
              "<svg xmlns=\"http://www.w3.org/2000/svg\" height=\"24px\"viewBox=\"0 0 24 24\"\n",
              "     width=\"24px\">\n",
              "    <g>\n",
              "        <path d=\"M19 3H5c-1.1 0-2 .9-2 2v14c0 1.1.9 2 2 2h14c1.1 0 2-.9 2-2V5c0-1.1-.9-2-2-2zM9 17H7v-7h2v7zm4 0h-2V7h2v10zm4 0h-2v-4h2v4z\"/>\n",
              "    </g>\n",
              "</svg>\n",
              "  </button>\n",
              "\n",
              "<style>\n",
              "  .colab-df-quickchart {\n",
              "      --bg-color: #E8F0FE;\n",
              "      --fill-color: #1967D2;\n",
              "      --hover-bg-color: #E2EBFA;\n",
              "      --hover-fill-color: #174EA6;\n",
              "      --disabled-fill-color: #AAA;\n",
              "      --disabled-bg-color: #DDD;\n",
              "  }\n",
              "\n",
              "  [theme=dark] .colab-df-quickchart {\n",
              "      --bg-color: #3B4455;\n",
              "      --fill-color: #D2E3FC;\n",
              "      --hover-bg-color: #434B5C;\n",
              "      --hover-fill-color: #FFFFFF;\n",
              "      --disabled-bg-color: #3B4455;\n",
              "      --disabled-fill-color: #666;\n",
              "  }\n",
              "\n",
              "  .colab-df-quickchart {\n",
              "    background-color: var(--bg-color);\n",
              "    border: none;\n",
              "    border-radius: 50%;\n",
              "    cursor: pointer;\n",
              "    display: none;\n",
              "    fill: var(--fill-color);\n",
              "    height: 32px;\n",
              "    padding: 0;\n",
              "    width: 32px;\n",
              "  }\n",
              "\n",
              "  .colab-df-quickchart:hover {\n",
              "    background-color: var(--hover-bg-color);\n",
              "    box-shadow: 0 1px 2px rgba(60, 64, 67, 0.3), 0 1px 3px 1px rgba(60, 64, 67, 0.15);\n",
              "    fill: var(--button-hover-fill-color);\n",
              "  }\n",
              "\n",
              "  .colab-df-quickchart-complete:disabled,\n",
              "  .colab-df-quickchart-complete:disabled:hover {\n",
              "    background-color: var(--disabled-bg-color);\n",
              "    fill: var(--disabled-fill-color);\n",
              "    box-shadow: none;\n",
              "  }\n",
              "\n",
              "  .colab-df-spinner {\n",
              "    border: 2px solid var(--fill-color);\n",
              "    border-color: transparent;\n",
              "    border-bottom-color: var(--fill-color);\n",
              "    animation:\n",
              "      spin 1s steps(1) infinite;\n",
              "  }\n",
              "\n",
              "  @keyframes spin {\n",
              "    0% {\n",
              "      border-color: transparent;\n",
              "      border-bottom-color: var(--fill-color);\n",
              "      border-left-color: var(--fill-color);\n",
              "    }\n",
              "    20% {\n",
              "      border-color: transparent;\n",
              "      border-left-color: var(--fill-color);\n",
              "      border-top-color: var(--fill-color);\n",
              "    }\n",
              "    30% {\n",
              "      border-color: transparent;\n",
              "      border-left-color: var(--fill-color);\n",
              "      border-top-color: var(--fill-color);\n",
              "      border-right-color: var(--fill-color);\n",
              "    }\n",
              "    40% {\n",
              "      border-color: transparent;\n",
              "      border-right-color: var(--fill-color);\n",
              "      border-top-color: var(--fill-color);\n",
              "    }\n",
              "    60% {\n",
              "      border-color: transparent;\n",
              "      border-right-color: var(--fill-color);\n",
              "    }\n",
              "    80% {\n",
              "      border-color: transparent;\n",
              "      border-right-color: var(--fill-color);\n",
              "      border-bottom-color: var(--fill-color);\n",
              "    }\n",
              "    90% {\n",
              "      border-color: transparent;\n",
              "      border-bottom-color: var(--fill-color);\n",
              "    }\n",
              "  }\n",
              "</style>\n",
              "\n",
              "  <script>\n",
              "    async function quickchart(key) {\n",
              "      const quickchartButtonEl =\n",
              "        document.querySelector('#' + key + ' button');\n",
              "      quickchartButtonEl.disabled = true;  // To prevent multiple clicks.\n",
              "      quickchartButtonEl.classList.add('colab-df-spinner');\n",
              "      try {\n",
              "        const charts = await google.colab.kernel.invokeFunction(\n",
              "            'suggestCharts', [key], {});\n",
              "      } catch (error) {\n",
              "        console.error('Error during call to suggestCharts:', error);\n",
              "      }\n",
              "      quickchartButtonEl.classList.remove('colab-df-spinner');\n",
              "      quickchartButtonEl.classList.add('colab-df-quickchart-complete');\n",
              "    }\n",
              "    (() => {\n",
              "      let quickchartButtonEl =\n",
              "        document.querySelector('#df-c3972a50-b81a-4119-953d-ee9c8aa52cb0 button');\n",
              "      quickchartButtonEl.style.display =\n",
              "        google.colab.kernel.accessAllowed ? 'block' : 'none';\n",
              "    })();\n",
              "  </script>\n",
              "</div>\n",
              "    </div>\n",
              "  </div>\n"
            ]
          },
          "metadata": {},
          "execution_count": 12
        }
      ]
    },
    {
      "cell_type": "markdown",
      "metadata": {
        "id": "jzHh1cyLbrQW"
      },
      "source": [
        "### Rationale\n"
      ]
    },
    {
      "cell_type": "markdown",
      "metadata": {
        "id": "blpD1vQlbrQX"
      },
      "source": [
        "I decided to normalize the features before performing the feature selection to be able to input the normalized features into the feature selection techniques and gain insight from their results.\n",
        "\n",
        "Feature Normalization\n",
        "> To normalize the features I decided to divide the numerical data by the number of households in the area to be able to gain a better understanding of the state of the houses in that area, as I believe this will aid the model in being able to predict the \"median_house_value\" as it should have more information about the particular houses in the given area.\n",
        "\n",
        "Feature Selection\n",
        "> To gain a better understanding of the correlation of the features and their importance to predicting the \"median_house_value\", I used a range of feature selection techniques using documentation and examples from scikit-learn.\n",
        "* Where applicable I used \"3831\" to seed the random number generation to make the results reproducible.\n",
        "* I used a threshold of 0.1 to ensure the techniques did not rule out any potentially important features.\n",
        "* Reference : [scikit-learn](https://scikit-learn.org/stable/modules/feature_selection.html)\n",
        "\n",
        "> From looking at the features in the dataset along with the results from the feature selection techniques I used, I believe that the features that would be most useful in predicting \"median_house_value\" would be the following :\n",
        "* \"housing_median_age\" - The age of housing in the area could be a good indicator as they tend to influence hosue values, as generally newer houses are more expensive.\n",
        "    * Reference : [Article](https://www.readysteadysell.co.uk/is-buying-an-older-property-worth-the-risk-the-pros-and-cons-to-buying-old-houses/#:~:text=It%20May%20Cost%20Less,to%20cost%20a%20lot%20more.)\n",
        "* \"total_rooms\"/\"total_bedrooms\" - Particularly when normalized for each household, this could be indicative of the size of the house which is likely to be a good indicator of the value of the house.\n",
        "* \"latitude\"/\"longitude\" - The location of the area could be a strong indicator of house value as the proximity to appealing areas like coastlines could increase the value of the houses significantly - conversely proximity to unappealing areas like sewage works could decrease the value of the houses."
      ]
    },
    {
      "cell_type": "markdown",
      "metadata": {
        "id": "hhYQd16ze4ci"
      },
      "source": [
        "## Train/Test Split\n",
        ""
      ]
    },
    {
      "cell_type": "markdown",
      "metadata": {
        "id": "aaCRd2gfbrQX"
      },
      "source": [
        "### Perform Data Split\n"
      ]
    },
    {
      "cell_type": "code",
      "execution_count": 13,
      "metadata": {
        "id": "LHqwFVZKFhI3"
      },
      "outputs": [],
      "source": [
        "# Documentation from https://scikit-learn.org/stable/modules/generated/sklearn.model_selection.train_test_split.html\n",
        "from sklearn.model_selection import train_test_split\n",
        "\n",
        "# Split the dataset into training and testing sets\n",
        "# Using scikit-learn train_test_split command to split data into 2\n",
        "# partitions\n",
        "# Using 80% of the data to train the model\n",
        "# Using 20% of the data to test the model\n",
        "# Shuffles the data (using \"3831\" to make the shuffle reproducible) before the\n",
        "# split to ensure a good variety in the datasets\n",
        "xTrain, xTest, yTrain, yTest = train_test_split(x, y, test_size=0.2, random_state=3831)"
      ]
    },
    {
      "cell_type": "code",
      "source": [
        "# Checking that test, validate, test split worked correctly, and identify\n",
        "# the number of records present in each.\n",
        "print(\n",
        "    f\"Data split into : \\n\" +\n",
        "    f\"    Training Data : {len(xTrain)} records\\n\" +\n",
        "    f\"    Testing Data : {len(xTest)} records\"\n",
        "    )"
      ],
      "metadata": {
        "colab": {
          "base_uri": "https://localhost:8080/"
        },
        "id": "wtao_EIr2bcY",
        "outputId": "669da97c-fa30-4ead-9e63-05e818a767a4"
      },
      "execution_count": 14,
      "outputs": [
        {
          "output_type": "stream",
          "name": "stdout",
          "text": [
            "Data split into : \n",
            "    Training Data : 16512 records\n",
            "    Testing Data : 4128 records\n"
          ]
        }
      ]
    },
    {
      "cell_type": "markdown",
      "metadata": {
        "id": "pAyF_SebbrQX"
      },
      "source": [
        "### Rationale\n"
      ]
    },
    {
      "cell_type": "markdown",
      "metadata": {
        "id": "LXFnypDGbrQX"
      },
      "source": [
        "As I am going to be using GridSearchCV from scikit-learn to tune the hyperparameters of the models I am building - which itself cross validates the model with the training data using kfolds to determine the best hyperparameters.\n",
        "* Reference : [scikit-learn(GridSearchCV)](https://scikit-learn.org/stable/modules/generated/sklearn.model_selection.GridSearchCV.html#examples-using-sklearn-model-selection-gridsearchcv:~:text=for%20callable%20added.-,cv,-int%2C%20cross%2Dvalidation)\n",
        "\n",
        "I used the \"train_test_split\" command from scikit-learn to split the dataset into 2 partitions, train and test. I used a split of 80/20 for the training data and the testing data - this results in :\n",
        "* Using 80% of the data to train the model - (16512 records)\n",
        "* Using 20% of the data to test the model - (4128 records)"
      ]
    },
    {
      "cell_type": "markdown",
      "metadata": {
        "id": "_u3ivZ2dfCtm"
      },
      "source": [
        "## Metric Selection\n"
      ]
    },
    {
      "cell_type": "markdown",
      "metadata": {
        "id": "robzgl8NbrQX"
      },
      "source": [
        "### Select Appropriate Metrics\n"
      ]
    },
    {
      "cell_type": "markdown",
      "metadata": {
        "id": "Cpc2_KanbrQY"
      },
      "source": [
        "The metrics I am selecting for my regression models are the following :\n",
        "* Mean Squared Error (MSE) : Lower scores indicate better models\n",
        "* Mean Absolute Error (MAE) : Lower scores indicate better models\n",
        "* Coefficient of Determination (R<sup>2</sup>) : The closer the score is to 1 the better the model\n",
        "* Time taken for creation and hyperparameter tuning/training of the models"
      ]
    },
    {
      "cell_type": "markdown",
      "source": [
        "### Creating Useful Graphs"
      ],
      "metadata": {
        "id": "bXTLPsXC4Yn3"
      }
    },
    {
      "cell_type": "markdown",
      "source": [
        "I will create graphs to graphically assess the model's predictive ability using the following graphs :\n",
        "* Scatter graph of Actual Values vs Predicted Values\n",
        "* Scatter graph of Residuals vs Predicted Values\n",
        "* Bar chart showing the Distribution of Residuals"
      ],
      "metadata": {
        "id": "STTXVGKD4dGJ"
      }
    },
    {
      "cell_type": "markdown",
      "metadata": {
        "id": "Z9EwV0SybrQY"
      },
      "source": [
        "### Rationale"
      ]
    },
    {
      "cell_type": "markdown",
      "metadata": {
        "id": "GZyJZzfxbrQZ"
      },
      "source": [
        "As the goal for the models is to predict the \"median_house_price\" I will need to build regression models so that they return a value rather than a classification. As such I decided to use the following metrics and their respective scoring methods to assess the models :\n",
        "* Mean Squared Error (MSE) : MSE measures the square of the mean difference between predicted and actual values, it severely punishes larger errors due to the nature of the squaring - and so particularly sensitive to outliers within the dataset.\n",
        "    * The lower the MSE value is, the better job the model did at predicting the values.\n",
        "* Mean Absolute Error (MAE) : MAE is a more representative measure of mean difference between predicted and actual values as it is less sensitive to outliers, this is due to it taking the absolute mean difference between predicted and actual values.\n",
        "    * The lower the MAE value is, the better job the model did at predicting the values.\n",
        "* Coefficient of Determination (R<sup>2</sup>) : This measure indicates how well the regression line approximates the actual values within the dataset.\n",
        "    * This is scored between 0 and 1, where 0 indicates that the model was not able to predict the values with any consistency - whereas 1 indicates that the model was able to predict all of the values perfectly.\n",
        "* Time taken for creation and hyperparameter tuning/training of the models\n",
        "    * This will give a useful heuristic for each of the models.\n",
        "\n",
        "Additionally I will create graphs to graphically assess the models predictive ability using the following graphs :\n",
        "* Scatter graph of Actual Values vs Predicted Values\n",
        "    * Ideally the points will fall along a perfect diagonal line where x = y indicating that the model perfectly predicted the values.\n",
        "* Scatter graph of Residuals vs Predicted Values\n",
        "    * Ideally the points will fall along the horizontal line at y = 0 indicating that the difference between the predicted value and actual value was 0 and therefore correct.\n",
        "* Bar chart showing the Distribution of Residuals\n",
        "    * Ideally it would be a normal distribution to indicate the model did a good job of predicting the values."
      ]
    },
    {
      "cell_type": "markdown",
      "metadata": {
        "id": "bVN7d-rdfK8Q"
      },
      "source": [
        "## Machine Learning Model 1 (M1)\n"
      ]
    },
    {
      "cell_type": "markdown",
      "metadata": {
        "id": "5cF5RLLVbrQZ"
      },
      "source": [
        "### Create Linear Regression Model\n"
      ]
    },
    {
      "cell_type": "code",
      "execution_count": 15,
      "metadata": {
        "id": "OrCts1npGGXB",
        "colab": {
          "base_uri": "https://localhost:8080/"
        },
        "outputId": "1ff6ffa6-bfcc-4b0f-e507-c1970770fcf1"
      },
      "outputs": [
        {
          "output_type": "stream",
          "name": "stdout",
          "text": [
            "Best hyperparameters for model : {'fit_intercept': True}\n",
            "Time taken for model creation and hyperparameter tuning/training : 0.37186765670776367 seconds\n"
          ]
        }
      ],
      "source": [
        "# Documentation from :\n",
        "#   https://scikit-learn.org/stable/modules/generated/sklearn.linear_model.LinearRegression.html,\n",
        "\n",
        "from sklearn.linear_model import LinearRegression\n",
        "\n",
        "# Decide whether to perform hyperparameter tuning\n",
        "M1HyperparameterTune = True\n",
        "\n",
        "if M1HyperparameterTune == True:\n",
        "    # Hyperparameters to change in tuning stage\n",
        "    M1ParameterGrid = {\n",
        "        \"fit_intercept\" : [True, False]\n",
        "    }\n",
        "\n",
        "    # Using generalized hyperparameter tuning function defined in\n",
        "    # \"Model Assessment Utilities/Hyperparameter Tuning\"\n",
        "    M1 = hyperparameterTune(LinearRegression(), M1ParameterGrid)\n",
        "else:\n",
        "    # Last known best combination of parameters\n",
        "    M1Parameters = {\n",
        "        \"fit_intercept\": True\n",
        "    }\n",
        "\n",
        "    print(f\"Used last known best combination of parameters : {M1Parameters}\")\n",
        "\n",
        "    # Create and Train model based on last known best combination of parameters\n",
        "    M1 = LinearRegression(**M1Parameters)\n",
        "    M1.fit(xTrain, yTrain)"
      ]
    },
    {
      "cell_type": "markdown",
      "metadata": {
        "id": "f5HK6muHbrQa"
      },
      "source": [
        "### Use M1 to Predict on Test Data"
      ]
    },
    {
      "cell_type": "code",
      "execution_count": 16,
      "metadata": {
        "id": "NTUCMLBnbrQa"
      },
      "outputs": [],
      "source": [
        "# Make predictions based on the testing set\n",
        "M1YPredictions = M1.predict(xTest)"
      ]
    },
    {
      "cell_type": "markdown",
      "metadata": {
        "id": "VGhizTTRbrQa"
      },
      "source": [
        "### Rationale"
      ]
    },
    {
      "cell_type": "markdown",
      "metadata": {
        "id": "Wub009vObrQa"
      },
      "source": [
        "As the task is to predict values for \"median_house_value\" a regression model is necessary rather than a classification model.\n",
        "\n",
        "Model Selection :\n",
        "> Linear Regression Model\n",
        "* I chose a linear regression model to start with due to it being a simple and easily interpretable model for regression tasks - it assumes a linear relationship between the input features and the feature that it is predicting.\n",
        "\n",
        "Training the Model :\n",
        "> I trained the model using the training data partitioned in the \"Train/Test Split\" section.\n",
        "\n",
        "Hyperparameter Tuning :\n",
        "> I generalized the code for hyperparameter tuning and placed it in \"Model Assessment Utilities/Hyperparameter Tuning\" and provided the option within the model creation stage to either run the hyperparameter tuning or use hard-coded values that I derived using the hyperparameter tuning to save time as the tuning can take quite some time.\n",
        "\n",
        ">I have used GridSearchCV from scikit-learn for hyperparameter tuning which systematically goes through the provided hyperparameters performing kfolds validation on the training data and assesses the model's performance with each of the hyperparameters. In this case the hyperparameters provided are the following :\n",
        "* \"fit_intercept\" - This determines whether or not the model calculates the intercept for the linear regression.\n",
        "\n",
        "Identifying the Best Hyperparameters :\n",
        "> Using the \".best_params_\" attribute of the GridSearchCV object, I identified and printed out the hyperparameters that resulted in the model with the best performance for future reference. In this case the best hyperparameters were :\n",
        "* \"fit_intercept\" = True\n",
        "\n",
        "The time taken for model creation and hyperparameter tuning/training was around 0.38 seconds."
      ]
    },
    {
      "cell_type": "markdown",
      "source": [
        "### Assessing M1's Performance"
      ],
      "metadata": {
        "id": "n4SzB_op9Pgd"
      }
    },
    {
      "cell_type": "markdown",
      "source": [
        "#### Using Statistical Methods"
      ],
      "metadata": {
        "id": "Moe2kTBm9YUF"
      }
    },
    {
      "cell_type": "code",
      "source": [
        "# Assess model statistically\n",
        "assessModelStatistics(yTest, M1YPredictions)"
      ],
      "metadata": {
        "colab": {
          "base_uri": "https://localhost:8080/"
        },
        "id": "rJCSYsCl9WI-",
        "outputId": "2440afd1-caca-4e8c-ee08-122e6c2dfa73"
      },
      "execution_count": 17,
      "outputs": [
        {
          "output_type": "stream",
          "name": "stdout",
          "text": [
            "Mean Squared Error : 7513838400.391473\n",
            "Mean Absolute Error : 64287.51959489999\n",
            "R-squared: 0.4431290815466794\n"
          ]
        }
      ]
    },
    {
      "cell_type": "markdown",
      "source": [
        "#### Using Graphical Methods"
      ],
      "metadata": {
        "id": "bS3CoDvs9bjC"
      }
    },
    {
      "cell_type": "code",
      "source": [
        "# Assess model graphically\n",
        "assessModelGraphs(yTest, M1YPredictions)"
      ],
      "metadata": {
        "colab": {
          "base_uri": "https://localhost:8080/",
          "height": 1000
        },
        "id": "q64dKuHG9eUw",
        "outputId": "67b7fcda-bc2d-4391-df80-0b63c73736ed"
      },
      "execution_count": 18,
      "outputs": [
        {
          "output_type": "display_data",
          "data": {
            "text/plain": [
              "<Figure size 640x480 with 1 Axes>"
            ],
            "image/png": "[encoded data removed]"
          },
          "metadata": {}
        },
        {
          "output_type": "display_data",
          "data": {
            "text/plain": [
              "<Figure size 640x480 with 1 Axes>"
            ],
            "image/png": "[encoded data removed]"
          },
          "metadata": {}
        },
        {
          "output_type": "display_data",
          "data": {
            "text/plain": [
              "<Figure size 640x480 with 1 Axes>"
            ],
            "image/png": "[encoded data removed]"
          },
          "metadata": {}
        }
      ]
    },
    {
      "cell_type": "markdown",
      "metadata": {
        "id": "YB78hsM_brQa"
      },
      "source": [
        "### Comment on Predictive Ability"
      ]
    },
    {
      "cell_type": "markdown",
      "metadata": {
        "id": "jhZRHIZRbrQa"
      },
      "source": [
        "I believe that the model M1 had some success with predicting the values of \"median_house_value\", however on the whole the model did not do a very good job.\n",
        "\n",
        "> Comments on Statistical Analysis\n",
        "* The Mean Squared Error (MSE) and Mean Absolute Error (MAE) should be as low as possible to indicate a good model.\n",
        "    * The MSE was (7,513,838,400.39 (rounded to 2 decimal points)) which at first looks incredibly high however due to this value being squared, MSE is incredibly sensitive to outliers - which I had already noted are present in the dataset in the \"Data Understanding\" section.\n",
        "    * The MAE was (64,287.52 (rounded to 2 decimal points)), which is a far more reasonable representation of the evaluation of the model, indicates that the model did have some success at predicting values - espcially considering this value is less than that of the value of a standard deviation present in the feature (115,395.62 (rounded to 2 decimal points)).\n",
        "* The R<sup>2</sup> value should be as close to 1 as possible to indicate a good model.\n",
        "    * The R<sup>2</sup> value was (0.44 (rounded to 2 decimal points)), which supports the idea that the model did have some success but on the whole the model was not very good at predicting the values for \"median_house_value\".\n",
        "\n",
        "> Comments on Graphical Analysis\n",
        "* For the scatter graph of Actual Values vs Predicted Values, ideally the points will fall along a perfect diagonal line where x = y indicating that the model perfectly predicted the values.\n",
        "    * The scatter graph shows that the model had some success with predicting the values as the datapoints are clustered around the ideal line, however it should be highlighted that the accuracy looks to start to fall as the value increases - additionally there is a number of anomalous data points on the graph indicating that the model did fail to always predict the values accurately.\n",
        "* For the scatter graph of Residuals vs Predicted Values, ideally the points will fall along the horizontal line at y = 0 indicating that the difference between the predicted value and actual value was 0 and therefore correct.\n",
        "    * The scatter graph again shows that the model had some success but overall did not do a very good job at predicting the values, additionally once again it is important to note there are quite a few anomalous data points.\n",
        "* For the bar chart showing the Distribution of Residuals, ideally it would be a normal distribution to indicate the model did a good job of predicting the values.\n",
        "    * The bar chart shows that the model overall was not good at predicting the values as the chart is not symmetrical - potentially indicating that the model tends to predict a value less than that of the actual value."
      ]
    },
    {
      "cell_type": "markdown",
      "metadata": {
        "id": "ncy4vY_dbrQa"
      },
      "source": [
        "## Machine Learning Model 2 (M2)"
      ]
    },
    {
      "cell_type": "markdown",
      "metadata": {
        "id": "pGbBr60VbrQb"
      },
      "source": [
        "### Create SVR Model\n"
      ]
    },
    {
      "cell_type": "code",
      "execution_count": null,
      "metadata": {
        "id": "Qu5NuwS2brQb"
      },
      "outputs": [],
      "source": [
        "# Documentation from https://scikit-learn.org/stable/modules/generated/sklearn.svm.SVR.html\n",
        "from sklearn.svm import SVR\n",
        "\n",
        "# Decide whether to perform hyperparameter tuning\n",
        "M2HyperparameterTune = True\n",
        "\n",
        "if M2HyperparameterTune == True:\n",
        "    # Hyperparameters to change in tuning stage\n",
        "    M2ParameterGrid = {\n",
        "        \"C\" : [1, 10, 100, 1000],\n",
        "        \"epsilon\" : [0.001, 0.01, 0.1],\n",
        "        \"gamma\": [1e-6, 1e-5, 1e-4]\n",
        "    }\n",
        "\n",
        "    # Using generalized hyperparameter tuning function defined in\n",
        "    # \"Model Assessment Utilities/Hyperparameter Tuning\"\n",
        "    M2 = hyperparameterTune(SVR(), M2ParameterGrid)\n",
        "else:\n",
        "    # Last known best combination of parameters\n",
        "    M2Parameters = {\n",
        "        \"C\" : 1000,\n",
        "        \"epsilon\" : 0.001,\n",
        "        \"gamma\" : 1e-05\n",
        "    }\n",
        "\n",
        "    print(f\"Used last known best combination of parameters : {M2Parameters}\")\n",
        "\n",
        "    # Create and Train model based on last known best combination of parameters\n",
        "    M2 = SVR(**M2Parameters)\n",
        "    M2.fit(xTrain, yTrain)"
      ]
    },
    {
      "cell_type": "markdown",
      "metadata": {
        "id": "gHAMTfQsbrQb"
      },
      "source": [
        "### Use M2 to Predict on Test Data\n"
      ]
    },
    {
      "cell_type": "code",
      "execution_count": null,
      "metadata": {
        "id": "ZL9TLW0AbrQb"
      },
      "outputs": [],
      "source": [
        "# Make predictions based on the testing set\n",
        "M2YPredictions = M2.predict(xTest)"
      ]
    },
    {
      "cell_type": "markdown",
      "metadata": {
        "id": "DLbCKbHZbrQb"
      },
      "source": [
        "### Rationale"
      ]
    },
    {
      "cell_type": "markdown",
      "metadata": {
        "id": "lpX5-f0dbrQb"
      },
      "source": [
        "As the task is to predict values for \"median_house_value\" a regression model is necessary rather than a classification model.\n",
        "\n",
        "Model Selection :\n",
        "> Support Vector Regression\n",
        "* I chose a Support Vector Regression model as it can be particularly effective when there is a non-linear relationship between the input features and the target feature.\n",
        "\n",
        "Training the Model :\n",
        "> I trained the model using the training data partitioned in the \"Train/Test Split\" section.\n",
        "\n",
        "Hyperparameter Tuning :\n",
        "> I generalized the code for hyperparameter tuning and placed it in \"Model Assessment Utilities/Hyperparameter Tuning\" and provided the option within the model creation stage to either run the hyperparameter tuning or use hard-coded values that I derived using the hyperparameter tuning to save time as the tuning can take quite some time.\n",
        "\n",
        "> I have used GridSearchCV from scikit-learn for hyperparameter tuning which systematically goes through the provided hyperparameters performing kfolds validation on the training data and assesses the model's performance with each of the hyperparameters. In this case the hyperparameters provided are the following :\n",
        "* \"C\" - This controls the trade-off between tolerating outliers (low C) and not tolerating outliers (high C).\n",
        "* \"epsilon\" - This controls the acceptability of errors in the model.\n",
        "* \"gamma\" - This controls the influence that a single datapoint has on the decision boundary.\n",
        "\n",
        "Identifying the Best Hyperparameters :\n",
        "> Using the \".best_params_\" attribute of the GridSearchCV object, I identified and printed out the hyperparameters that resulted in the model with the best performance for future reference. In this case the best hyperparameters were :\n",
        "* \"C\" = 1000\n",
        "* \"epsilon\" = 0.001\n",
        "* \"gamma\" = 1e-5\n",
        "\n",
        "The time taken for model creation and hyperparameter tuning/training was around 2575 second = ~ 42 minutes."
      ]
    },
    {
      "cell_type": "markdown",
      "source": [
        "### Assessing M2's Performance"
      ],
      "metadata": {
        "id": "l_Ngz-HGK736"
      }
    },
    {
      "cell_type": "markdown",
      "source": [
        "#### Using Statistical Methods"
      ],
      "metadata": {
        "id": "VevGF84QLBVy"
      }
    },
    {
      "cell_type": "code",
      "source": [
        "# Assess model statistically\n",
        "assessModelStatistics(yTest, M2YPredictions)"
      ],
      "metadata": {
        "id": "JsQtrd-BLEFF"
      },
      "execution_count": null,
      "outputs": []
    },
    {
      "cell_type": "markdown",
      "source": [
        "#### Using Graphical Methods"
      ],
      "metadata": {
        "id": "91iaVl_uLEel"
      }
    },
    {
      "cell_type": "code",
      "source": [
        "# Assess model graphically\n",
        "assessModelGraphs(yTest, M2YPredictions)"
      ],
      "metadata": {
        "id": "mVV8I9FoLMO3"
      },
      "execution_count": null,
      "outputs": []
    },
    {
      "cell_type": "markdown",
      "metadata": {
        "id": "YFkG1em_brQb"
      },
      "source": [
        "### Comment on Predictive Ability"
      ]
    },
    {
      "cell_type": "markdown",
      "metadata": {
        "id": "sHfP8WesbrQh"
      },
      "source": [
        "I believe that the model M2 was not able to predict values for \"median_house_value\" at all, this could potentially indicate that there is no non-linear relationship between the input features and the target feature. Additionally this is potentially due to the presence of outliers in the dataset.\n",
        "\n",
        "> Comments on Statistical Analysis\n",
        "* The Mean Squared Error (MSE) and Mean Absolute Error (MAE) should be as low as possible to indicate a good model.\n",
        "    * The MSE was (13,079,104,432.25 (rounded to 2 decimal points)) which at first looks incredibly high however due to this value being squared, MSE is incredibly sensitive to outliers - which I had already noted are present in the dataset in the \"Data Understanding\" section.\n",
        "    * The MAE was (85,514.37 (rounded to 2 decimal points)), which is a far more reasonable representation of the evaluation of the model, still indicates that the model was very poor at predicting the value of \"median_house_value\"\n",
        "* The R<sup>2</sup> value should be as close to 1 as possible to indicate a good model.\n",
        "    * The R<sup>2</sup> value was (0.03 (rounded to 2 decimal points)), which supports the idea that the model was very poor at predicting the values for \"median_house_value\".\n",
        "\n",
        "> Comments on Graphical Analysis\n",
        "* For the scatter graph of Actual Values vs Predicted Values, ideally the points will fall along a perfect diagonal line where x = y indicating that the model perfectly predicted the values.\n",
        "    * The scatter graph shows that the model seemingly only predicted values between (~140,000 - ~240,000)\n",
        "* For the scatter graph of Residuals vs Predicted Values, ideally the points will fall along the horizontal line at y = 0 indicating that the difference between the predicted value and actual value was 0 and therefore correct.\n",
        "    * The scatter graph again shows that the model was very poor at predicting the values for \"median_house_value\" with some coincidental success but on the whole a very poor performance.\n",
        "* For the bar chart showing the Distribution of Residuals, ideally it would be a normal distribution to indicate the model did a good job of predicting the values.\n",
        "    * The bar chart shows that the model overall was not good at predicting the values as the chart is not at all like a normal distribution - indicating that without the removal of outliers and potentially scaling the data this method is very poor at predicting the values."
      ]
    },
    {
      "cell_type": "markdown",
      "metadata": {
        "id": "pFJ9nqyQbrQh"
      },
      "source": [
        "## Machine Learning Model 3 (M3)"
      ]
    },
    {
      "cell_type": "markdown",
      "metadata": {
        "id": "7uHYpKpjbrQh"
      },
      "source": [
        "### Create Random Forest Regressor Model"
      ]
    },
    {
      "cell_type": "code",
      "execution_count": null,
      "metadata": {
        "id": "KayLP0cTbrQh"
      },
      "outputs": [],
      "source": [
        "# Documentation from https://scikit-learn.org/stable/modules/generated/sklearn.ensemble.RandomForestRegressor.html\n",
        "from sklearn.ensemble import RandomForestRegressor\n",
        "\n",
        "# Decide whether to perform hyperparameter tuning\n",
        "M3HyperparameterTune = True\n",
        "\n",
        "if M3HyperparameterTune == True:\n",
        "    # Hyperparameters to change in tuning stage\n",
        "    M3ParameterGrid = {\n",
        "        \"n_estimators\" : [10, 50, 100],\n",
        "        \"max_depth\" : [2, 10, 20],\n",
        "        \"min_samples_split\" : [2, 5, 10],\n",
        "        \"min_samples_leaf\" : [1, 2, 4]\n",
        "    }\n",
        "\n",
        "    # Using generalized hyperparameter tuning function defined in\n",
        "    # \"Model Assessment Utilities/Hyperparameter Tuning\"\n",
        "    M3 = hyperparameterTune(RandomForestRegressor(), M3ParameterGrid)\n",
        "else:\n",
        "    # Last known best combination of parameters\n",
        "    M3Parameters = {\n",
        "        \"n_estimators\" : 100,\n",
        "        \"max_depth\" : 20,\n",
        "        \"min_samples_split\" : 5,\n",
        "        \"min_samples_leaf\" : 1\n",
        "    }\n",
        "\n",
        "    print(f\"Used last known best combination of parameters : {M3Parameters}\")\n",
        "\n",
        "    # Create and Train model based on last known best combination of parameters\n",
        "    M3 = RandomForestRegressor(**M3Parameters)\n",
        "    M3.fit(xTrain, yTrain)"
      ]
    },
    {
      "cell_type": "markdown",
      "metadata": {
        "id": "xUKNKZdZbrQi"
      },
      "source": [
        "### Use M3 to Predict on Test Data\n"
      ]
    },
    {
      "cell_type": "code",
      "execution_count": null,
      "metadata": {
        "id": "NdO895bJbrQi"
      },
      "outputs": [],
      "source": [
        "# Make predictions based on the testing set\n",
        "M3YPredictions = M3.predict(xTest)"
      ]
    },
    {
      "cell_type": "markdown",
      "metadata": {
        "id": "OH1kJqFsbrQi"
      },
      "source": [
        "### Rationale"
      ]
    },
    {
      "cell_type": "markdown",
      "metadata": {
        "id": "DNPTbXtFbrQi"
      },
      "source": [
        "As the task is to predict values for \"median_house_value\" a regression model is necessary rather than a classification model.\n",
        "\n",
        "Model Selection :\n",
        "> Random Forest Regression\n",
        "* I chose a Support Vector Regression model as it can be particularly effective when there is a non-linear relationship between the input features and the target feature.\n",
        "\n",
        "Training the Model :\n",
        "> I trained the model using the training data partitioned in the \"Train/Test Split\" section.\n",
        "\n",
        "Hyperparameter Tuning :\n",
        "> I generalized the code for hyperparameter tuning and placed it in \"Model Assessment Utilities/Hyperparameter Tuning\" and provided the option within the model creation stage to either run the hyperparameter tuning or use hard-coded values that I derived using the hyperparameter tuning to save time as the tuning can take quite some time.\n",
        "\n",
        "> I have used GridSearchCV from scikit-learn for hyperparameter tuning which systematically goes through the provided hyperparameters performing kfolds validation on the training data and assesses the model's performance with each of the hyperparameters. In this case the hyperparameters provided are the following :\n",
        "* \"n_estimators\" - Determines the number of decision trees in the ensemble.\n",
        "* \"max_depth\" - Controls the maximum depth of the individual decision trees.\n",
        "* \"min_samples_split\" - Determines the minimum number of samples required to split an internal node.\n",
        "* \"min_samples_leaf\" - Determines the minimum number of samples required to be at a leaf node.\n",
        "\n",
        "Identifying the Best Hyperparameters :\n",
        "> Using the \".best_params_\" attribute of the GridSearchCV object, I identified and printed out the hyperparameters that resulted in the model with the best performance for future reference. In this case the best hyperparameters were :\n",
        "* \"n_estimators\" = 100\n",
        "* \"max_depth\" = 20\n",
        "* \"min_samples_split\" = 5\n",
        "* \"min_samples_leaf\" = 1\n",
        "\n",
        "\n",
        "\n",
        "The time taken for model creation and hyperparameter tuning/training was around 1474 second = ~ 24 minutes."
      ]
    },
    {
      "cell_type": "markdown",
      "source": [
        "### Assessing M3's Performance"
      ],
      "metadata": {
        "id": "w3z4aH4-0Nz0"
      }
    },
    {
      "cell_type": "markdown",
      "source": [
        "#### Using Statistical Methods"
      ],
      "metadata": {
        "id": "75a-035t0Nz0"
      }
    },
    {
      "cell_type": "code",
      "source": [
        "# Assess model statistically\n",
        "assessModelStatistics(yTest, M3YPredictions)"
      ],
      "metadata": {
        "id": "2t9OWab50Nz0"
      },
      "execution_count": null,
      "outputs": []
    },
    {
      "cell_type": "markdown",
      "source": [
        "#### Using Graphical Methods"
      ],
      "metadata": {
        "id": "jOpXgW7E0Nz1"
      }
    },
    {
      "cell_type": "code",
      "source": [
        "# Assess model graphically\n",
        "assessModelGraphs(yTest, M3YPredictions)"
      ],
      "metadata": {
        "id": "fUicKqT_0Nz1"
      },
      "execution_count": null,
      "outputs": []
    },
    {
      "cell_type": "markdown",
      "metadata": {
        "id": "QDOdFvtibrQi"
      },
      "source": [
        "### Comment on Predictive Ability"
      ]
    },
    {
      "cell_type": "markdown",
      "metadata": {
        "id": "XxgW8qlFbrQi"
      },
      "source": [
        "I believe that the model M3 was able to predict the values for \"median_house_value\" well.\n",
        "\n",
        "> Comments on Statistical Analysis\n",
        "* The Mean Squared Error (MSE) and Mean Absolute Error (MAE) should be as low as possible to indicate a good model.\n",
        "    * The MSE was (2,502,381,516.66 (rounded to 2 decimal points)) which at first looks incredibly high however due to this value being squared, MSE is incredibly sensitive to outliers - which I had already noted are present in the dataset in the \"Data Understanding\" section.\n",
        "    * The MAE was (33,536.68 (rounded to 2 decimal points)), which is a far more reasonable representation of the evaluation of the model, indicates that the model was quite good at predicting values - especially as this value is close to a quarter of the standard deviation for this feature (115,395.62 (rounded to 2 decimal points)).\n",
        "* The R<sup>2</sup> value should be as close to 1 as possible to indicate a good model.\n",
        "    * The R<sup>2</sup> value was (0.81 (rounded to 2 decimal points)), which supports the idea that the model was quite good at predicting the values for \"median_house_value\".\n",
        "\n",
        "> Comments on Graphical Analysis\n",
        "* For the scatter graph of Actual Values vs Predicted Values, ideally the points will fall along a perfect diagonal line where x = y indicating that the model perfectly predicted the values.\n",
        "    * The scatter graph shows that the model had a good degree of accuracy with a good proportion of the datapoints lying close to the ideal line. Again it is important to note that there are some anomalous datapoints potentially due to the presence of outliers within the dataset.\n",
        "* For the scatter graph of Residuals vs Predicted Values, ideally the points will fall along the horizontal line at y = 0 indicating that the difference between the predicted value and actual value was 0 and therefore correct.\n",
        "    * The scatter graph again shows that the model was quite good at predicting the values of the dataset, while again there are some anomalous data points likely due to the presence of outliers within the dataset.\n",
        "* For the bar chart showing the Distribution of Residuals, ideally it would be a normal distribution to indicate the model did a good job of predicting the values.\n",
        "    * The bar chart shows that the model overall was quite good at predicting the values as the distribution is similar to the ideal normal distribution of frequency of residuals."
      ]
    },
    {
      "cell_type": "markdown",
      "metadata": {
        "id": "mMcS2gOfbrQi"
      },
      "source": [
        "## Comparison Between Models\n",
        "In this section you will comment on the difference in predictive ability between models, the difference in analysis metrics between models, and the pros/cons of each model as you understand it."
      ]
    },
    {
      "cell_type": "markdown",
      "metadata": {
        "id": "036L4KsobrQj"
      },
      "source": [
        "### Difference in Predictive Ability"
      ]
    },
    {
      "cell_type": "markdown",
      "metadata": {
        "id": "oXY_fHgsbrQj"
      },
      "source": [
        "The models I created vary on their predictive ability due to their varying strengths and weaknesses for the dataset and it's quality. I created three regression models to predict the \"median_house_value\" for the geographic areas represented in the dataset :\n",
        "\n",
        "Linear Regression (M1)\n",
        "> I created a Linear Regression model which assumes an approximatly linear relationship between the input features and the target feature.\n",
        "* This model had some success with predicting the value for \"median_house_value\", however on the whole this model was not able to consistently predict the values - particularly the higher values as evidenced by the analysis metrics/graphs.\n",
        "    * I believe this to be due to there being a potentially non-linear relationship between the input features and the target features which would have resulted in the model having a wrong assumption that it built it's training upon as evidenced by its apparent tendancy to predict values lower than the actual value for the \"median_house_value\" - which could support my theory of the presence of non-linear relationships between the input features and the target feature. Additionally the presence of outliers within the dataset could have skewed the training of the dataset.\n",
        "    * For hyperparameter tuning, as the model is fairly simple to begin with I was only able to tune \"fit_intercept\" which could only have the value of \"True/False\", this meant that the time it took for the hyperparameter tuning was quite short at : ~ 0.4 seconds.\n",
        "        * From my hyperparameter tuning I derived the following to be the best hyperparameters for the model :\n",
        "            * \"fit_intercept\" = True\n",
        "\n",
        "Support Vector Regression (M2)\n",
        "> I created a Support Vector Regression (SVR) model which is a variation of Support Vector Machines (SVM) which can be used for regression rather than classification. SVR tries to approximate the relationship between the input features and the target feature by using epsilon to penalize errors.\n",
        "* This model was very poor at predicting the values for \"median_house_value\", seemingly only predicting a range of values between ~140000-240000 as evidenced by the analysis metrics/graphs.\n",
        "    * I believe this to be due to the presence of outliers still being in the dataset which were having an adverse affect on the model due to masking the true underlying relationship between the input features and the target feature, additionally potentially due to outliers becoming support vectors for the model and therefore erroding the predictive ability of the model.\n",
        "    * For hyperparameter tuning, I was able to tune \"C, epsilon and gamma\" which could all take continuous values which combined with the time needed to train a single SVR model meant the hyperparameter tuning took quite some time even after I identified suitible values to attempt : ~ 42 minutes.\n",
        "        * From my hyperparameter tuning I derived the following to be the best hyperparameters for the model :\n",
        "            * \"C\" = 1000\n",
        "            * \"epsilon\" = 0.001\n",
        "            * \"gamma\" = 1e-5\n",
        "\n",
        "Random Forest Regression (M3)\n",
        "> I created a Random Forest Regression model which is an ensemble of decision trees where the ultimate prediction is a combination of the decision from each of the individual trees.\n",
        "* The model was quite good at predicting the values for \"median_house_value\" as evidenced by the analysis metrics/graphs.\n",
        "    * I believe this to be due to the robustness against outliers that the Random Forest Regression provides in addition to its ability to learn the relationships between the input features and the target feature.\n",
        "    * For hyperparameter tuning, I was able to tune \"n_estimators, max_depth, min_samples_split and min_samples_leaf\" which again could all take continuous values which when combined with the amount of time it took to train a single Random Forest Regression resulted in the hyperparameter tuning taking quite some time even after I identified suitible values to attempt : ~ 24 minutes.\n",
        "        * From my hyperparameter tuning I derived the following to be the best hyperparameters for the model :\n",
        "            * \"n_estimators\" = 100\n",
        "            * \"max_depth\" = 20\n",
        "            * \"min_samples_split\" = 5\n",
        "            * \"min_samples_leaf\" = 1\n",
        "\n",
        "Note : I generalized the code for hyperparameter tuning and placed it in \"Model Assessment Utilities/Hyperparameter Tuning\" and provided the option within each of the model creation stages to either run the hyperparameter tuning or use hard-coded values that I derived using the hyperparameter tuning to save time as the tuning can take quite some time.\n"
      ]
    },
    {
      "cell_type": "markdown",
      "source": [
        "### Assessing Each of the Model's Performance Together for Easier Comparison"
      ],
      "metadata": {
        "id": "L-xrhzcqyS5j"
      }
    },
    {
      "cell_type": "code",
      "source": [
        "# Assessing each of the model's performance together for comparison\n",
        "\n",
        "# M1 (Linear Regression)\n",
        "print(\"=\" * 55)\n",
        "print(\"Assessing M1 (Linear Regression)\")\n",
        "# Assess model statistically\n",
        "assessModelStatistics(yTest, M1YPredictions)\n",
        "print(\"Time taken for model creation and hyperparameter tuning/training : 0.38 seconds\")\n",
        "# Assess model graphically\n",
        "assessModelGraphs(yTest, M1YPredictions)\n",
        "print(\"=\" * 55)\n",
        "\n",
        "# M2 (SVR)\n",
        "print(\"=\" * 55)\n",
        "print(\"Assessing M2 (SVR)\")\n",
        "# Assess model statistically\n",
        "assessModelStatistics(yTest, M2YPredictions)\n",
        "print(\"Time taken for model creation and hyperparameter tuning/training : 2575 seconds\")\n",
        "# Assess model graphically\n",
        "assessModelGraphs(yTest, M2YPredictions)\n",
        "print(\"=\" * 55)\n",
        "\n",
        "# M3 (Random Forest Regression)\n",
        "print(\"=\" * 55)\n",
        "print(\"Assessing M3 (Random Forest Regression)\")\n",
        "# Assess model statistically\n",
        "assessModelStatistics(yTest, M3YPredictions)\n",
        "print(\"Time taken for model creation and hyperparameter tuning/training : 1474 seconds\")\n",
        "# Assess model graphically\n",
        "assessModelGraphs(yTest, M3YPredictions)\n",
        "print(\"=\" * 55)"
      ],
      "metadata": {
        "id": "anfPijBjvkKt"
      },
      "execution_count": null,
      "outputs": []
    },
    {
      "cell_type": "markdown",
      "metadata": {
        "id": "Rvdjm5NIbrQj"
      },
      "source": [
        "### Difference in Analysis Metrics"
      ]
    },
    {
      "cell_type": "markdown",
      "metadata": {
        "id": "Pj3-VBd6brQj"
      },
      "source": [
        "As outlined in \"Metric Selection/Select Appropriate Metrics\" section, I used the following suitable metrics for assessing the predictive ability of the machine learning models :\n",
        "* Mean Squared Error (MSE) : Lower scores indicate better models\n",
        "* Mean Absolute Error (MAE) : Lower scores indicate better models\n",
        "* Coefficient of Determination (R<sup>2</sup>) : The closer the score is to 1 the better the model\n",
        "* Time taken for creation and hyperparameter tuning/training of the models\n",
        "\n",
        "Additionally I created graphs to graphically assess the model's predictive ability using the following graphs :\n",
        "* Scatter graph of Actual Values vs Predicted Values, ideally the points will fall along a perfect diagonal line where x = y indicating that the model perfectly predicted the values.\n",
        "* Scatter graph of Residuals vs Predicted Values, ideally the points will fall along the horizontal line at y = 0 indicating that the difference between the predicted value and actual value was 0 and therefore correct.\n",
        "* Bar chart showing the Distribution of Residuals, ideally it would be a normal distribution to indicate the model did a good job of predicting the values.\n",
        "\n",
        "The values for the metrics for each of the models are the following :\n",
        "\n",
        "Linear Regression (M1)\n",
        "> These values support my theory that the linear regression model had some success at predicting the values for \"median_house_value\" however on the whole was not able to accurately predict values consistently. Of the models I created this model's predictive ability is mediocre.\n",
        "* Mean Squared Error : 7513838400.391473\n",
        "* Mean Absolute Error : 64287.51959489999\n",
        "* R-squared: 0.4431290815466794\n",
        "* Time taken for model creation and hyperparameter tuning/training : 0.38 seconds\n",
        "\n",
        "Support Vector Regression (M2)\n",
        "> These values support my theory that the SVR model was very poor at predicting the values for \"median_house_value\". Of the models I created this model's predictive ability is very poor.\n",
        "* Mean Squared Error : 13079104432.251133\n",
        "* Mean Absolute Error : 85514.37131816018\n",
        "* R-squared: 0.030672139907198526\n",
        "* Time taken for model creation and hyperparameter tuning/training : 2575 seconds\n",
        "\n",
        "Random Forest Regression (M3)\n",
        "> These values support my theory that the Random Forest Regression model was quite good at predicting the values for \"median_house_value\". Of the models I created this model's predictive ability is very good.\n",
        "* Mean Squared Error : 2535952621.948758\n",
        "* Mean Absolute Error : 33647.67216546736\n",
        "* R-squared: 0.8120536814226487\n",
        "* Time taken for model creation and hyperparameter tuning/training : 1474 seconds\n",
        "\n",
        "My analysis of the graphs I created for each of the models is the following :\n",
        "\n",
        "Scatter Graph of Actual Values vs Predicted Values\n",
        "> From comparing the graphs it is clear that they support my theory that the predictive ability of the Linear Regression model (M1) was mediocre, SVR (M2) was very poor and Random Forest Regression (M3) was very good.\n",
        "* Linear Regression (M1) :\n",
        "    * The scatter graph shows that the model had some success with predicting the values as the datapoints are clustered around the ideal line, however it should be highlighted that the accuracy looks to start to fall as the value increases - additionally there is a number of anomalous data points on the graph indicating that the model did fail to always predict the values accurately.\n",
        "* SVR (M2) :\n",
        "    * The scatter graph shows that the model seemingly only predicted values between (~140,000 - ~240,000)\n",
        "* Random Forest Regression (M3) :\n",
        "    * The scatter graph shows that the model had a good degree of accuracy with a good proportion of the datapoints lying close to the ideal line. Again it is important to note that there are some anomalous datapoints potentially due to the presence of outliers within the dataset.\n",
        "\n",
        "Scatter graph of Residuals vs Predicted Values\n",
        "> From comparing the graphs once again it is clear that they support my theory that the predictive ability of the Linear Regression model (M1) was mediocre, SVR (M2) was very poor and Random Forest Regression (M3) was very good.\n",
        "* Linear Regression (M1) :\n",
        "    * The scatter graph again shows that the model had some success but overall did not do a very good job at predicting the values, additionally once again it is important to note there are quite a few anomalous data points.\n",
        "* SVR (M2) :\n",
        "    * The scatter graph again shows that the model was very poor at predicting the values for \"median_house_value\" with some coincidental success but on the whole a very poor performance.\n",
        "* Random Forest Regression (M3) :\n",
        "    * The scatter graph again shows that the model was quite good at predicting the values of the dataset, while again there are some anomalous data points likely due to the presence of outliers within the dataset.\n",
        "\n",
        "Bar chart showing the Distribution of Residuals\n",
        "> Finally once again from comparing the graphs it is clear that they support my theory that the predictive ability of the Linear Regression model (M1) was mediocre, SVR (M2) was very poor and Random Forest Regression (M3) was very good.\n",
        "* Linear Regression (M1) :\n",
        "    * The bar chart shows that the model overall was not good at predicting the values as the chart is not symmetrical - potentially indicating that the model tends to predict a value less than that of the actual value.\n",
        "* SVR (M2) :\n",
        "    * The bar chart shows that the model overall was not good at predicting the values as the chart is not at all like a normal distribution - indicating that without the removal of outliers and potentially scaling the data this method is very poor at predicting the values.\n",
        "* Random Forest Regression (M3) :\n",
        "    * The bar chart shows that the model overall was quite good at predicting the values as the distribution is similar to the ideal normal distribution of frequency of residuals."
      ]
    },
    {
      "cell_type": "markdown",
      "metadata": {
        "id": "VSttfDhKbrQj"
      },
      "source": [
        "### Pros/Cons"
      ]
    },
    {
      "cell_type": "markdown",
      "metadata": {
        "id": "zIGf16gFbrQj"
      },
      "source": [
        "Linear Regression :\n",
        "> Benefits :\n",
        "* Simplicity - Due to the relatively simple nature of the model it is easier to understand as the developer and explain to stakeholders what the model is doing and how it has come to the predictions it has.\n",
        "* Efficiency - Due to how the model works the hyperparameter tuning/training as well as prediction of new data is very quick and computationally efficient which should scale well to even larger datasets.\n",
        "\n",
        "> Drawbacks :\n",
        "* Assumption of linear relationship - Linear regression assumes that there is a linear relationship between the input features and the target features, of course if this is not the case, it can lead to the model resulting in incorrect predictions.\n",
        "* Sensitive to Outliers - The presence of outliers has a negative impact on the predictive ability of the model.\n",
        "\n",
        "Support Vector Regression :\n",
        "> Benefits :\n",
        "* Choice of Kernels - The ability to pick different kernels depending on the dataset gives the model flexibility and the ability to understand more complex relationships between the data.\n",
        "* Handles non-linearity - The model is able to understand non-linear relationships between the data which allows it to have greater predictive ability in such cases.\n",
        "\n",
        "> Drawbacks :\n",
        "* Computationally Intensive - Especially with large datasets the training and consequently hyperparameter tuning is very computationally intensive.\n",
        "* Interpretability - Understanding how the SVR works as a developer and explaining its functionality to stakeholders is hard due to the training complexity and how the model came to its predictions.\n",
        "* Sensitive to Outliers - The presence of outliers has a negative impact on the predictive ability of the model.\n",
        "\n",
        "Random Forest Regression :\n",
        "> Benefits :\n",
        "* Accuracy - Due to Random Forest Regression combining the results of multiple decision trees they seem to genererally result in models with good predictive ability.\n",
        "* Robust against Outliers - Outliers are handled by the combination of multiple decision tree outputs being able to agree or disagree on what the prediction should be.\n",
        "* Handles non-linearity - The model is able to understand non-linear relationships between the data which allows it to have greater predictive ability in such cases.\n",
        "\n",
        "> Drawbacks :\n",
        "* Computationally Intensive - The creation of the multiple decision trees is computationally intensive, compounded when performing hyperparameter tuning as this construction must be done many times.\n",
        "* Interpretability - While it is possible to extract the computed feature weights it is still hard to explain to stakeholders what the model is doing and how it came to its predictions."
      ]
    },
    {
      "cell_type": "markdown",
      "metadata": {
        "id": "oL6Ue112brQj"
      },
      "source": [
        "## Conclusion\n",
        "In this section you will draw conclusions about the models you've selected, and efficacy of different analysis metrics you've used, and any additional comments or concerns about the models or metrics you've observed."
      ]
    },
    {
      "cell_type": "markdown",
      "metadata": {
        "id": "p9SYPWAzbrQj"
      },
      "source": [
        "### Model Selection"
      ]
    },
    {
      "cell_type": "markdown",
      "metadata": {
        "id": "fnfINJ9rbrQk"
      },
      "source": [
        "Linear Regression :\n",
        "> I have found that Linear Regression models are relatively easy to understand and implement as well as they are able to scale well to large datasets, however they are impacted by outliers present in the dataset and assume a linear relationship between the input features and the target feature.\n",
        "\n",
        "> Situations where I would choose this model are :\n",
        "* When the relationships present in the data are linear (or are transformable to linear) or are close enough to linear so an approximation to a linear relationship is suitable.\n",
        "* When it is necessary to be able to explain the methodology of the model to stakeholders.\n",
        "* Where the dataset for the task is large\n",
        "\n",
        "Support Vector Regression :\n",
        "> I have found that Support Vector Regression models are flexible and have the ability to understand complex relationships within the data like non-linearity, however they are severely impacted by the presence of outliers within the data, particularly computationaly intensive compared to other models and are hard to understand and explain to stakeholders.\n",
        "\n",
        "> Situations where I would choose this model are :\n",
        "* When the relationships present in the data are complex and could potentially need further investigation with the use of different kernels/hyperparameters.\n",
        "* Where the time to tune the hyperparameters and train the model is not a major factor as SVRs are computationaly intensive.\n",
        "* Where it is certain outliers are not present in the data as these models are particularly impacted by them.\n",
        "\n",
        "Random Forest Regression :\n",
        ">I have found that Random Forest Regression models are generally accurate, can handle non-linear relationships between data and robust against the presence of outliers within the data, however they are computationally intensive and are difficult to understand and explain to stakeholders how they reach their predictions.\n",
        "\n",
        "> Situations where I would choose this model are :\n",
        "* When the relationships present in the data are complex.\n",
        "* Where a high accuracy for the model is a major consideration.\n",
        "* Where the dataset for the task is large."
      ]
    },
    {
      "cell_type": "markdown",
      "metadata": {
        "id": "-uD7fhtPbrQk"
      },
      "source": [
        "### Analysis Metrics"
      ]
    },
    {
      "cell_type": "markdown",
      "metadata": {
        "id": "FYsUEqcUbrQk"
      },
      "source": [
        "Metrics for Analyzing Machine Learning Models\n",
        "> Classification Metrics\n",
        "* Confusion Matrix\n",
        "    * Shows the predicted cases against the actual cases as a heatmap.\n",
        "    * Measure of a good model - Want the perfect diagonal to be dominant with no non-zero items elsewhere\n",
        "* Accuracy\n",
        "    * Out of all predictions, how many predicted correctly.\n",
        "    * Measure of a good model - Closest to 0\n",
        "* Recall\n",
        "    * Of the positive predicted cases, how many were correct.\n",
        "    * Measure of a good model - Closest to 0\n",
        "* Precision\n",
        "    * Of the positive predicted cases, how many were positive.\n",
        "    * Measure of a good model - Closest to 1\n",
        "* F1\n",
        "    * The harmonic mean of precision and recall.\n",
        "    * Measure of a good model - Closest to 1\n",
        "\n",
        "> Regression Metrics\n",
        "* Mean Squared Error (MSE)\n",
        "    * The squared mean error value from the predictions from the model.\n",
        "    * Measure of a good model - Closest to 0\n",
        "* Mean Absolute Error (MAE)\n",
        "    * The absolute mean error value from the predictions from the model.\n",
        "    * Measure of a good model - Closest to 0\n",
        "* Coefficient of Determination (R<sup>2</sup>)\n",
        "    * A measure of how good a hypothesis is compared to a perfect hypothesis and the actual mean.\n",
        "    * Measure of a good model - Closest to 1\n",
        "\n",
        "\n",
        "Situations where I would pick one set of metrics over the other :\n",
        "> Classification Metrics\n",
        "* Where the task is to determine whether an item is a member of one group or another, and as such a classification model is being utilised - potentially multiple times in the case of multi-classification tasks.\n",
        "\n",
        "> Regression Metrics\n",
        "* Where the task is to determine a continuous value for an item, and as such a regression model is being utilised.\n",
        "\n",
        "My conclusions for the metrics I have utilised for this task (Regression Metrics) :\n",
        "> Mean Squared Error (MSE)/Mean Absolute Error (MAE)\n",
        "* I did not find the MSE metric particularly useful when used with MAE as MSE is impacted heavily by outliers and MAE seemed to provide a better metric for understanding the Mean Error of the model.\n",
        "\n",
        "> Coefficient of Determination (R<sup>2</sup>)\n",
        "* I found R<sup>2</sup> very useful in understanding the predictive ability of the models I created as it returned a value on a defined scale so I could understand how good my model was at predicting the values for \"median_house_value\"."
      ]
    }
  ],
  "metadata": {
    "colab": {
      "provenance": [],
      "toc_visible": true,
      "include_colab_link": true
    },
    "kernelspec": {
      "display_name": "Python 3",
      "name": "python3"
    },
    "language_info": {
      "name": "python"
    },
    "accelerator": "TPU"
  },
  "nbformat": 4,
  "nbformat_minor": 0
}